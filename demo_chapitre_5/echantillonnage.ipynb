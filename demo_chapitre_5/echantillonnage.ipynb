{
 "cells": [
  {
   "cell_type": "markdown",
   "metadata": {},
   "source": [
    "## Exemple d'échantillonnage aléatoire et stratifié en utilisant l'utilitaire resample"
   ]
  },
  {
   "cell_type": "code",
   "execution_count": 6,
   "metadata": {},
   "outputs": [],
   "source": [
    "#importation de la classe Resample de la libraire sciki-learn\n",
    "from sklearn.utils import resample\n"
   ]
  },
  {
   "cell_type": "code",
   "execution_count": 1,
   "metadata": {},
   "outputs": [],
   "source": [
    "#importation du jeu données. dataset de la fraude aux AA\n",
    "import pandas as pd\n",
    "df = pd.read_csv('FraudeAssuranceAuto.csv')\n",
    "#pour formater l'affichage\n",
    "pd.options.display.float_format = '{:.2f}'.format "
   ]
  },
  {
   "cell_type": "code",
   "execution_count": 2,
   "metadata": {},
   "outputs": [
    {
     "data": {
      "text/html": [
       "<div>\n",
       "<style scoped>\n",
       "    .dataframe tbody tr th:only-of-type {\n",
       "        vertical-align: middle;\n",
       "    }\n",
       "\n",
       "    .dataframe tbody tr th {\n",
       "        vertical-align: top;\n",
       "    }\n",
       "\n",
       "    .dataframe thead th {\n",
       "        text-align: right;\n",
       "    }\n",
       "</style>\n",
       "<table border=\"1\" class=\"dataframe\">\n",
       "  <thead>\n",
       "    <tr style=\"text-align: right;\">\n",
       "      <th></th>\n",
       "      <th>ID</th>\n",
       "      <th>Insurance Type</th>\n",
       "      <th>Income of Policy Holder</th>\n",
       "      <th>Marital Status</th>\n",
       "      <th>Num Claimants</th>\n",
       "      <th>Injury Type</th>\n",
       "      <th>Overnight Hospital Stay</th>\n",
       "      <th>Claim Amount</th>\n",
       "      <th>Total Claimed</th>\n",
       "      <th>Num Claims</th>\n",
       "      <th>Num Soft Tissue</th>\n",
       "      <th>% Soft Tissue</th>\n",
       "      <th>Claim Amount Received</th>\n",
       "      <th>Fraud Flag</th>\n",
       "    </tr>\n",
       "  </thead>\n",
       "  <tbody>\n",
       "    <tr>\n",
       "      <th>0</th>\n",
       "      <td>1</td>\n",
       "      <td>CI</td>\n",
       "      <td>0</td>\n",
       "      <td>NaN</td>\n",
       "      <td>2</td>\n",
       "      <td>Soft Tissue</td>\n",
       "      <td>No</td>\n",
       "      <td>1625</td>\n",
       "      <td>3250</td>\n",
       "      <td>2</td>\n",
       "      <td>2.00</td>\n",
       "      <td>1.00</td>\n",
       "      <td>0</td>\n",
       "      <td>1</td>\n",
       "    </tr>\n",
       "    <tr>\n",
       "      <th>1</th>\n",
       "      <td>2</td>\n",
       "      <td>CI</td>\n",
       "      <td>0</td>\n",
       "      <td>NaN</td>\n",
       "      <td>2</td>\n",
       "      <td>Back</td>\n",
       "      <td>Yes</td>\n",
       "      <td>15028</td>\n",
       "      <td>60112</td>\n",
       "      <td>1</td>\n",
       "      <td>0.00</td>\n",
       "      <td>0.00</td>\n",
       "      <td>15028</td>\n",
       "      <td>0</td>\n",
       "    </tr>\n",
       "    <tr>\n",
       "      <th>2</th>\n",
       "      <td>3</td>\n",
       "      <td>CI</td>\n",
       "      <td>54613</td>\n",
       "      <td>Married</td>\n",
       "      <td>1</td>\n",
       "      <td>Broken Limb</td>\n",
       "      <td>No</td>\n",
       "      <td>-99999</td>\n",
       "      <td>0</td>\n",
       "      <td>0</td>\n",
       "      <td>0.00</td>\n",
       "      <td>0.00</td>\n",
       "      <td>572</td>\n",
       "      <td>0</td>\n",
       "    </tr>\n",
       "    <tr>\n",
       "      <th>3</th>\n",
       "      <td>4</td>\n",
       "      <td>CI</td>\n",
       "      <td>0</td>\n",
       "      <td>NaN</td>\n",
       "      <td>3</td>\n",
       "      <td>Serious</td>\n",
       "      <td>Yes</td>\n",
       "      <td>270200</td>\n",
       "      <td>0</td>\n",
       "      <td>0</td>\n",
       "      <td>0.00</td>\n",
       "      <td>0.00</td>\n",
       "      <td>270200</td>\n",
       "      <td>0</td>\n",
       "    </tr>\n",
       "    <tr>\n",
       "      <th>4</th>\n",
       "      <td>5</td>\n",
       "      <td>CI</td>\n",
       "      <td>0</td>\n",
       "      <td>NaN</td>\n",
       "      <td>4</td>\n",
       "      <td>Soft Tissue</td>\n",
       "      <td>No</td>\n",
       "      <td>8869</td>\n",
       "      <td>0</td>\n",
       "      <td>0</td>\n",
       "      <td>0.00</td>\n",
       "      <td>0.00</td>\n",
       "      <td>0</td>\n",
       "      <td>1</td>\n",
       "    </tr>\n",
       "  </tbody>\n",
       "</table>\n",
       "</div>"
      ],
      "text/plain": [
       "   ID Insurance Type   Income of Policy Holder Marital Status  Num Claimants  \\\n",
       "0   1              CI                        0            NaN              2   \n",
       "1   2              CI                        0            NaN              2   \n",
       "2   3              CI                    54613        Married              1   \n",
       "3   4              CI                        0            NaN              3   \n",
       "4   5              CI                        0            NaN              4   \n",
       "\n",
       "   Injury Type Overnight Hospital Stay  Claim Amount  Total Claimed  \\\n",
       "0  Soft Tissue                      No          1625           3250   \n",
       "1         Back                     Yes         15028          60112   \n",
       "2  Broken Limb                      No        -99999              0   \n",
       "3      Serious                     Yes        270200              0   \n",
       "4  Soft Tissue                      No          8869              0   \n",
       "\n",
       "   Num Claims  Num Soft Tissue  % Soft Tissue  Claim Amount Received  \\\n",
       "0           2             2.00           1.00                      0   \n",
       "1           1             0.00           0.00                  15028   \n",
       "2           0             0.00           0.00                    572   \n",
       "3           0             0.00           0.00                 270200   \n",
       "4           0             0.00           0.00                      0   \n",
       "\n",
       "   Fraud Flag  \n",
       "0           1  \n",
       "1           0  \n",
       "2           0  \n",
       "3           0  \n",
       "4           1  "
      ]
     },
     "execution_count": 2,
     "metadata": {},
     "output_type": "execute_result"
    }
   ],
   "source": [
    "df.head()"
   ]
  },
  {
   "cell_type": "code",
   "execution_count": 3,
   "metadata": {},
   "outputs": [
    {
     "data": {
      "text/plain": [
       "(500, 14)"
      ]
     },
     "execution_count": 3,
     "metadata": {},
     "output_type": "execute_result"
    }
   ],
   "source": [
    "df.shape"
   ]
  },
  {
   "cell_type": "code",
   "execution_count": 4,
   "metadata": {},
   "outputs": [
    {
     "data": {
      "text/plain": [
       "Fraud Flag\n",
       "0   0.66\n",
       "1   0.34\n",
       "Name: count, dtype: float64"
      ]
     },
     "execution_count": 4,
     "metadata": {},
     "output_type": "execute_result"
    }
   ],
   "source": [
    "#calcul de la proportion d'indvidus par rapport à la caractéristique Fraud Flag dans le jeu de données initial\n",
    "\n",
    "df['Fraud Flag'].value_counts()/len(df)"
   ]
  },
  {
   "cell_type": "code",
   "execution_count": 7,
   "metadata": {},
   "outputs": [],
   "source": [
    "#creation d'un échantillon aleatoire de 200 instances des 500 du jeu de donées initial\n",
    "#l'option replace = False pour indiquer que c'est un échantillonnage sans remise\n",
    "#option random_state pour le seed, générateur aléatoire\n",
    "\n",
    "ech = resample(df, n_samples=200, replace=False, random_state=0)"
   ]
  },
  {
   "cell_type": "code",
   "execution_count": 8,
   "metadata": {},
   "outputs": [
    {
     "data": {
      "text/plain": [
       "(200, 14)"
      ]
     },
     "execution_count": 8,
     "metadata": {},
     "output_type": "execute_result"
    }
   ],
   "source": [
    "ech.shape"
   ]
  },
  {
   "cell_type": "code",
   "execution_count": 9,
   "metadata": {
    "scrolled": true
   },
   "outputs": [
    {
     "data": {
      "text/html": [
       "<div>\n",
       "<style scoped>\n",
       "    .dataframe tbody tr th:only-of-type {\n",
       "        vertical-align: middle;\n",
       "    }\n",
       "\n",
       "    .dataframe tbody tr th {\n",
       "        vertical-align: top;\n",
       "    }\n",
       "\n",
       "    .dataframe thead th {\n",
       "        text-align: right;\n",
       "    }\n",
       "</style>\n",
       "<table border=\"1\" class=\"dataframe\">\n",
       "  <thead>\n",
       "    <tr style=\"text-align: right;\">\n",
       "      <th></th>\n",
       "      <th>ID</th>\n",
       "      <th>Insurance Type</th>\n",
       "      <th>Income of Policy Holder</th>\n",
       "      <th>Marital Status</th>\n",
       "      <th>Num Claimants</th>\n",
       "      <th>Injury Type</th>\n",
       "      <th>Overnight Hospital Stay</th>\n",
       "      <th>Claim Amount</th>\n",
       "      <th>Total Claimed</th>\n",
       "      <th>Num Claims</th>\n",
       "      <th>Num Soft Tissue</th>\n",
       "      <th>% Soft Tissue</th>\n",
       "      <th>Claim Amount Received</th>\n",
       "      <th>Fraud Flag</th>\n",
       "    </tr>\n",
       "  </thead>\n",
       "  <tbody>\n",
       "    <tr>\n",
       "      <th>90</th>\n",
       "      <td>91</td>\n",
       "      <td>CI</td>\n",
       "      <td>0</td>\n",
       "      <td>NaN</td>\n",
       "      <td>2</td>\n",
       "      <td>Serious</td>\n",
       "      <td>Yes</td>\n",
       "      <td>1908</td>\n",
       "      <td>11872</td>\n",
       "      <td>1</td>\n",
       "      <td>1.00</td>\n",
       "      <td>1.00</td>\n",
       "      <td>1908</td>\n",
       "      <td>0</td>\n",
       "    </tr>\n",
       "    <tr>\n",
       "      <th>254</th>\n",
       "      <td>255</td>\n",
       "      <td>CI</td>\n",
       "      <td>38384</td>\n",
       "      <td>Divorced</td>\n",
       "      <td>1</td>\n",
       "      <td>Broken Limb</td>\n",
       "      <td>No</td>\n",
       "      <td>4598</td>\n",
       "      <td>0</td>\n",
       "      <td>0</td>\n",
       "      <td>0.00</td>\n",
       "      <td>0.00</td>\n",
       "      <td>4598</td>\n",
       "      <td>0</td>\n",
       "    </tr>\n",
       "    <tr>\n",
       "      <th>283</th>\n",
       "      <td>284</td>\n",
       "      <td>CI</td>\n",
       "      <td>0</td>\n",
       "      <td>NaN</td>\n",
       "      <td>3</td>\n",
       "      <td>Broken Limb</td>\n",
       "      <td>No</td>\n",
       "      <td>5000</td>\n",
       "      <td>6748</td>\n",
       "      <td>1</td>\n",
       "      <td>0.00</td>\n",
       "      <td>0.00</td>\n",
       "      <td>5000</td>\n",
       "      <td>0</td>\n",
       "    </tr>\n",
       "    <tr>\n",
       "      <th>445</th>\n",
       "      <td>446</td>\n",
       "      <td>CI</td>\n",
       "      <td>0</td>\n",
       "      <td>NaN</td>\n",
       "      <td>1</td>\n",
       "      <td>Serious</td>\n",
       "      <td>Yes</td>\n",
       "      <td>4384</td>\n",
       "      <td>9195</td>\n",
       "      <td>1</td>\n",
       "      <td>0.00</td>\n",
       "      <td>0.00</td>\n",
       "      <td>4384</td>\n",
       "      <td>0</td>\n",
       "    </tr>\n",
       "    <tr>\n",
       "      <th>461</th>\n",
       "      <td>462</td>\n",
       "      <td>CI</td>\n",
       "      <td>0</td>\n",
       "      <td>NaN</td>\n",
       "      <td>1</td>\n",
       "      <td>Soft Tissue</td>\n",
       "      <td>No</td>\n",
       "      <td>6821</td>\n",
       "      <td>0</td>\n",
       "      <td>0</td>\n",
       "      <td>0.00</td>\n",
       "      <td>0.00</td>\n",
       "      <td>0</td>\n",
       "      <td>1</td>\n",
       "    </tr>\n",
       "  </tbody>\n",
       "</table>\n",
       "</div>"
      ],
      "text/plain": [
       "      ID Insurance Type   Income of Policy Holder Marital Status  \\\n",
       "90    91              CI                        0            NaN   \n",
       "254  255              CI                    38384       Divorced   \n",
       "283  284              CI                        0            NaN   \n",
       "445  446              CI                        0            NaN   \n",
       "461  462              CI                        0            NaN   \n",
       "\n",
       "     Num Claimants  Injury Type Overnight Hospital Stay  Claim Amount  \\\n",
       "90               2      Serious                     Yes          1908   \n",
       "254              1  Broken Limb                      No          4598   \n",
       "283              3  Broken Limb                      No          5000   \n",
       "445              1      Serious                     Yes          4384   \n",
       "461              1  Soft Tissue                      No          6821   \n",
       "\n",
       "     Total Claimed  Num Claims  Num Soft Tissue  % Soft Tissue  \\\n",
       "90           11872           1             1.00           1.00   \n",
       "254              0           0             0.00           0.00   \n",
       "283           6748           1             0.00           0.00   \n",
       "445           9195           1             0.00           0.00   \n",
       "461              0           0             0.00           0.00   \n",
       "\n",
       "     Claim Amount Received  Fraud Flag  \n",
       "90                    1908           0  \n",
       "254                   4598           0  \n",
       "283                   5000           0  \n",
       "445                   4384           0  \n",
       "461                      0           1  "
      ]
     },
     "execution_count": 9,
     "metadata": {},
     "output_type": "execute_result"
    }
   ],
   "source": [
    "ech.head()"
   ]
  },
  {
   "cell_type": "code",
   "execution_count": 10,
   "metadata": {},
   "outputs": [
    {
     "data": {
      "text/plain": [
       "Fraud Flag\n",
       "0   0.64\n",
       "1   0.36\n",
       "Name: count, dtype: float64"
      ]
     },
     "execution_count": 10,
     "metadata": {},
     "output_type": "execute_result"
    }
   ],
   "source": [
    "ech['Fraud Flag'].value_counts()/len(ech)"
   ]
  },
  {
   "cell_type": "code",
   "execution_count": 10,
   "metadata": {},
   "outputs": [],
   "source": [
    "#le résultat est que nous avons 200 individus réparti en 128 individus de la classe 0 (Pas de Fraude)\n",
    "#72 individus de la classe 1 (Fraude)"
   ]
  },
  {
   "cell_type": "code",
   "execution_count": 11,
   "metadata": {},
   "outputs": [],
   "source": [
    "#creation d'un échantillon aleatoire stratifié de 200 instances \n",
    "#option stratify pour spécifier que la stratification se fera relativement à la caractéristique cible : Fraud Flag\n",
    "\n",
    "ech_s = resample(df, n_samples=200, replace=False, \n",
    "                 stratify=df['Fraud Flag'], \n",
    "                 random_state=5)\n"
   ]
  },
  {
   "cell_type": "code",
   "execution_count": 12,
   "metadata": {},
   "outputs": [
    {
     "data": {
      "text/plain": [
       "Fraud Flag\n",
       "0   0.67\n",
       "1   0.34\n",
       "Name: count, dtype: float64"
      ]
     },
     "execution_count": 12,
     "metadata": {},
     "output_type": "execute_result"
    }
   ],
   "source": [
    "ech_s['Fraud Flag'].value_counts()/len(ech_s)"
   ]
  },
  {
   "cell_type": "code",
   "execution_count": 13,
   "metadata": {},
   "outputs": [],
   "source": [
    "# Nous avons la même proportion dans l'échantillon que le jeu de données de données initial\n",
    "# relativement a la variable cible Fraud Flag\n",
    "#C'est le but de la stratification "
   ]
  },
  {
   "cell_type": "code",
   "execution_count": null,
   "metadata": {},
   "outputs": [],
   "source": []
  }
 ],
 "metadata": {
  "kernelspec": {
   "display_name": "Python 3 (ipykernel)",
   "language": "python",
   "name": "python3"
  },
  "language_info": {
   "codemirror_mode": {
    "name": "ipython",
    "version": 3
   },
   "file_extension": ".py",
   "mimetype": "text/x-python",
   "name": "python",
   "nbconvert_exporter": "python",
   "pygments_lexer": "ipython3",
   "version": "3.12.1"
  }
 },
 "nbformat": 4,
 "nbformat_minor": 4
}
