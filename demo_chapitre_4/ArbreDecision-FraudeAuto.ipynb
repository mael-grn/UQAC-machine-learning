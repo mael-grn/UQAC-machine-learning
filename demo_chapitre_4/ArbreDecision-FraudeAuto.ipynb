{
 "cells": [
  {
   "cell_type": "markdown",
   "metadata": {},
   "source": [
    "## Chapter 4 – Entrainer une arbre de décision sur la Fraude Auto\n",
    "1. Il s'agit de classer (Classification) une réclamation en assurance auto."
   ]
  },
  {
   "cell_type": "code",
   "execution_count": 2,
   "metadata": {},
   "outputs": [],
   "source": [
    "#importatation de modules commun\n",
    "\n",
    "import numpy as np\n",
    "import pandas as pd\n",
    "\n",
    "# pour fixer le germe- seed- afin d'éviter la génération de différents échantillons de données de test... \n",
    "#à chaque exéctuin du programme (cellule) en question\n",
    "np.random.seed(4)\n",
    "\n",
    "# pour  l'affichage de figures\n",
    "%matplotlib inline\n",
    "import matplotlib as mpl\n",
    "import matplotlib.pyplot as plt\n"
   ]
  },
  {
   "cell_type": "markdown",
   "metadata": {},
   "source": [
    "## Lecture des données"
   ]
  },
  {
   "cell_type": "code",
   "execution_count": 3,
   "metadata": {},
   "outputs": [],
   "source": [
    "#lecture des deux datasets Train_FraudeAA et Test_FraudeAA\n",
    "#le dataset Original de 500 instances a été diviser en jeu d'entrainement 80%\n",
    "# jeu de test (20%).\n",
    "#Je l'ai aussi nettoyé : J'ai enlevé les trois variables ID. MARITAL STATUS ET INCOME\n",
    "#A titre d'exemple, j'ai supprimé les outiliers (indvidus contenant des valeurs aberrantes)\n",
    "#Il y en avait 45 individus parmi les 80%.\n",
    "# le jeu de test est aussi nettoyé et mis dans la même configuration que \n",
    "# le training set\n",
    "data_train = pd.read_csv(\"Train_FraudeAA.CSV\")\n",
    "data_test = pd.read_csv(\"Test_FraudeAA.CSV\")"
   ]
  },
  {
   "cell_type": "code",
   "execution_count": 4,
   "metadata": {},
   "outputs": [
    {
     "data": {
      "text/html": [
       "<div>\n",
       "<style scoped>\n",
       "    .dataframe tbody tr th:only-of-type {\n",
       "        vertical-align: middle;\n",
       "    }\n",
       "\n",
       "    .dataframe tbody tr th {\n",
       "        vertical-align: top;\n",
       "    }\n",
       "\n",
       "    .dataframe thead th {\n",
       "        text-align: right;\n",
       "    }\n",
       "</style>\n",
       "<table border=\"1\" class=\"dataframe\">\n",
       "  <thead>\n",
       "    <tr style=\"text-align: right;\">\n",
       "      <th></th>\n",
       "      <th>NumClaimants</th>\n",
       "      <th>InjuryType</th>\n",
       "      <th>OvernightHospitalStay</th>\n",
       "      <th>ClaimAmount</th>\n",
       "      <th>TotalClaimed</th>\n",
       "      <th>NumClaims</th>\n",
       "      <th>NumSoftTissue</th>\n",
       "      <th>RatioSoftTissue</th>\n",
       "      <th>ClaimAmountReceived</th>\n",
       "      <th>Fraude</th>\n",
       "    </tr>\n",
       "  </thead>\n",
       "  <tbody>\n",
       "    <tr>\n",
       "      <th>0</th>\n",
       "      <td>3</td>\n",
       "      <td>'Soft Tissue'</td>\n",
       "      <td>No</td>\n",
       "      <td>638.0</td>\n",
       "      <td>5742</td>\n",
       "      <td>3</td>\n",
       "      <td>3.0</td>\n",
       "      <td>1.0</td>\n",
       "      <td>0</td>\n",
       "      <td>1</td>\n",
       "    </tr>\n",
       "    <tr>\n",
       "      <th>1</th>\n",
       "      <td>1</td>\n",
       "      <td>'Broken Limb'</td>\n",
       "      <td>Yes</td>\n",
       "      <td>15876.0</td>\n",
       "      <td>18989</td>\n",
       "      <td>1</td>\n",
       "      <td>1.0</td>\n",
       "      <td>1.0</td>\n",
       "      <td>14156</td>\n",
       "      <td>0</td>\n",
       "    </tr>\n",
       "    <tr>\n",
       "      <th>2</th>\n",
       "      <td>1</td>\n",
       "      <td>'Soft Tissue'</td>\n",
       "      <td>No</td>\n",
       "      <td>3780.0</td>\n",
       "      <td>7239</td>\n",
       "      <td>1</td>\n",
       "      <td>0.0</td>\n",
       "      <td>0.0</td>\n",
       "      <td>3780</td>\n",
       "      <td>0</td>\n",
       "    </tr>\n",
       "    <tr>\n",
       "      <th>3</th>\n",
       "      <td>1</td>\n",
       "      <td>Back</td>\n",
       "      <td>No</td>\n",
       "      <td>5711.0</td>\n",
       "      <td>4248</td>\n",
       "      <td>1</td>\n",
       "      <td>1.0</td>\n",
       "      <td>1.0</td>\n",
       "      <td>5711</td>\n",
       "      <td>0</td>\n",
       "    </tr>\n",
       "    <tr>\n",
       "      <th>4</th>\n",
       "      <td>3</td>\n",
       "      <td>'Soft Tissue'</td>\n",
       "      <td>No</td>\n",
       "      <td>74365.0</td>\n",
       "      <td>0</td>\n",
       "      <td>0</td>\n",
       "      <td>0.0</td>\n",
       "      <td>0.0</td>\n",
       "      <td>0</td>\n",
       "      <td>1</td>\n",
       "    </tr>\n",
       "  </tbody>\n",
       "</table>\n",
       "</div>"
      ],
      "text/plain": [
       "   NumClaimants     InjuryType OvernightHospitalStay  ClaimAmount  \\\n",
       "0             3  'Soft Tissue'                    No        638.0   \n",
       "1             1  'Broken Limb'                   Yes      15876.0   \n",
       "2             1  'Soft Tissue'                    No       3780.0   \n",
       "3             1           Back                    No       5711.0   \n",
       "4             3  'Soft Tissue'                    No      74365.0   \n",
       "\n",
       "   TotalClaimed  NumClaims  NumSoftTissue  RatioSoftTissue  \\\n",
       "0          5742          3            3.0              1.0   \n",
       "1         18989          1            1.0              1.0   \n",
       "2          7239          1            0.0              0.0   \n",
       "3          4248          1            1.0              1.0   \n",
       "4             0          0            0.0              0.0   \n",
       "\n",
       "   ClaimAmountReceived  Fraude  \n",
       "0                    0       1  \n",
       "1                14156       0  \n",
       "2                 3780       0  \n",
       "3                 5711       0  \n",
       "4                    0       1  "
      ]
     },
     "execution_count": 4,
     "metadata": {},
     "output_type": "execute_result"
    }
   ],
   "source": [
    "data_train.head()"
   ]
  },
  {
   "cell_type": "code",
   "execution_count": 5,
   "metadata": {},
   "outputs": [
    {
     "name": "stdout",
     "output_type": "stream",
     "text": [
      "<class 'pandas.core.frame.DataFrame'>\n",
      "RangeIndex: 364 entries, 0 to 363\n",
      "Data columns (total 10 columns):\n",
      " #   Column                 Non-Null Count  Dtype  \n",
      "---  ------                 --------------  -----  \n",
      " 0   NumClaimants           364 non-null    int64  \n",
      " 1   InjuryType             364 non-null    object \n",
      " 2   OvernightHospitalStay  364 non-null    object \n",
      " 3   ClaimAmount            364 non-null    float64\n",
      " 4   TotalClaimed           364 non-null    int64  \n",
      " 5   NumClaims              364 non-null    int64  \n",
      " 6   NumSoftTissue          364 non-null    float64\n",
      " 7   RatioSoftTissue        364 non-null    float64\n",
      " 8   ClaimAmountReceived    364 non-null    int64  \n",
      " 9   Fraude                 364 non-null    int64  \n",
      "dtypes: float64(3), int64(5), object(2)\n",
      "memory usage: 28.6+ KB\n"
     ]
    }
   ],
   "source": [
    "data_train.info()"
   ]
  },
  {
   "cell_type": "code",
   "execution_count": 6,
   "metadata": {},
   "outputs": [
    {
     "data": {
      "text/plain": [
       "(364, 10)"
      ]
     },
     "execution_count": 6,
     "metadata": {},
     "output_type": "execute_result"
    }
   ],
   "source": [
    "data_train.shape"
   ]
  },
  {
   "cell_type": "code",
   "execution_count": 7,
   "metadata": {},
   "outputs": [
    {
     "data": {
      "text/plain": [
       "(92, 10)"
      ]
     },
     "execution_count": 7,
     "metadata": {},
     "output_type": "execute_result"
    }
   ],
   "source": [
    "data_test.shape"
   ]
  },
  {
   "cell_type": "code",
   "execution_count": 8,
   "metadata": {},
   "outputs": [
    {
     "data": {
      "text/html": [
       "<div>\n",
       "<style scoped>\n",
       "    .dataframe tbody tr th:only-of-type {\n",
       "        vertical-align: middle;\n",
       "    }\n",
       "\n",
       "    .dataframe tbody tr th {\n",
       "        vertical-align: top;\n",
       "    }\n",
       "\n",
       "    .dataframe thead th {\n",
       "        text-align: right;\n",
       "    }\n",
       "</style>\n",
       "<table border=\"1\" class=\"dataframe\">\n",
       "  <thead>\n",
       "    <tr style=\"text-align: right;\">\n",
       "      <th></th>\n",
       "      <th>NumClaimants</th>\n",
       "      <th>InjuryType</th>\n",
       "      <th>OvernightHospitalStay</th>\n",
       "      <th>ClaimAmount</th>\n",
       "      <th>TotalClaimed</th>\n",
       "      <th>NumClaims</th>\n",
       "      <th>NumSoftTissue</th>\n",
       "      <th>RatioSoftTissue</th>\n",
       "      <th>ClaimAmountReceived</th>\n",
       "      <th>Fraude</th>\n",
       "    </tr>\n",
       "  </thead>\n",
       "  <tbody>\n",
       "    <tr>\n",
       "      <th>0</th>\n",
       "      <td>2</td>\n",
       "      <td>'Broken Limb'</td>\n",
       "      <td>Yes</td>\n",
       "      <td>4824.0</td>\n",
       "      <td>16105</td>\n",
       "      <td>1</td>\n",
       "      <td>0.0</td>\n",
       "      <td>0.00</td>\n",
       "      <td>4824</td>\n",
       "      <td>0</td>\n",
       "    </tr>\n",
       "    <tr>\n",
       "      <th>1</th>\n",
       "      <td>3</td>\n",
       "      <td>Serious</td>\n",
       "      <td>Yes</td>\n",
       "      <td>47508.0</td>\n",
       "      <td>6136</td>\n",
       "      <td>1</td>\n",
       "      <td>1.0</td>\n",
       "      <td>1.00</td>\n",
       "      <td>47508</td>\n",
       "      <td>0</td>\n",
       "    </tr>\n",
       "    <tr>\n",
       "      <th>2</th>\n",
       "      <td>3</td>\n",
       "      <td>Back</td>\n",
       "      <td>Yes</td>\n",
       "      <td>72412.0</td>\n",
       "      <td>0</td>\n",
       "      <td>0</td>\n",
       "      <td>0.0</td>\n",
       "      <td>0.00</td>\n",
       "      <td>72412</td>\n",
       "      <td>0</td>\n",
       "    </tr>\n",
       "    <tr>\n",
       "      <th>3</th>\n",
       "      <td>3</td>\n",
       "      <td>'Soft Tissue'</td>\n",
       "      <td>No</td>\n",
       "      <td>5403.0</td>\n",
       "      <td>0</td>\n",
       "      <td>0</td>\n",
       "      <td>0.0</td>\n",
       "      <td>0.00</td>\n",
       "      <td>5403</td>\n",
       "      <td>0</td>\n",
       "    </tr>\n",
       "    <tr>\n",
       "      <th>4</th>\n",
       "      <td>1</td>\n",
       "      <td>Back</td>\n",
       "      <td>No</td>\n",
       "      <td>3487.0</td>\n",
       "      <td>36306</td>\n",
       "      <td>4</td>\n",
       "      <td>1.0</td>\n",
       "      <td>0.25</td>\n",
       "      <td>3487</td>\n",
       "      <td>1</td>\n",
       "    </tr>\n",
       "  </tbody>\n",
       "</table>\n",
       "</div>"
      ],
      "text/plain": [
       "   NumClaimants     InjuryType OvernightHospitalStay  ClaimAmount  \\\n",
       "0             2  'Broken Limb'                   Yes       4824.0   \n",
       "1             3        Serious                   Yes      47508.0   \n",
       "2             3           Back                   Yes      72412.0   \n",
       "3             3  'Soft Tissue'                    No       5403.0   \n",
       "4             1           Back                    No       3487.0   \n",
       "\n",
       "   TotalClaimed  NumClaims  NumSoftTissue  RatioSoftTissue  \\\n",
       "0         16105          1            0.0             0.00   \n",
       "1          6136          1            1.0             1.00   \n",
       "2             0          0            0.0             0.00   \n",
       "3             0          0            0.0             0.00   \n",
       "4         36306          4            1.0             0.25   \n",
       "\n",
       "   ClaimAmountReceived  Fraude  \n",
       "0                 4824       0  \n",
       "1                47508       0  \n",
       "2                72412       0  \n",
       "3                 5403       0  \n",
       "4                 3487       1  "
      ]
     },
     "execution_count": 8,
     "metadata": {},
     "output_type": "execute_result"
    }
   ],
   "source": [
    "data_test.head()"
   ]
  },
  {
   "cell_type": "markdown",
   "metadata": {},
   "source": [
    "Transformation des variables qualitatives (object) en type vecteur nombre. \n",
    "Exigence de scikit-learn\n",
    "\n",
    "Au lieu de passer par l'encoder OnehotEncoder, voici une approche plus simple dans ce contexte de l'exemple\n",
    "C'est d'utiliser la fonction get_dummy() de pandas qui produit le même résultat que l'encoder OneHotEncoder..\n",
    "\n",
    "Nous avons 2 variables qualitatives:\n",
    "1. InjuryType = BrokenLimb,Soft Tissue,Back,Serious\n",
    "2. OvernightHospitalStay=yes/no\n",
    "\n",
    "\n"
   ]
  },
  {
   "cell_type": "code",
   "execution_count": 10,
   "metadata": {},
   "outputs": [],
   "source": [
    "nouv_df_train=pd.get_dummies(data_train[data_train.columns[:-1]])"
   ]
  },
  {
   "cell_type": "code",
   "execution_count": 11,
   "metadata": {
    "scrolled": true
   },
   "outputs": [
    {
     "data": {
      "text/html": [
       "<div>\n",
       "<style scoped>\n",
       "    .dataframe tbody tr th:only-of-type {\n",
       "        vertical-align: middle;\n",
       "    }\n",
       "\n",
       "    .dataframe tbody tr th {\n",
       "        vertical-align: top;\n",
       "    }\n",
       "\n",
       "    .dataframe thead th {\n",
       "        text-align: right;\n",
       "    }\n",
       "</style>\n",
       "<table border=\"1\" class=\"dataframe\">\n",
       "  <thead>\n",
       "    <tr style=\"text-align: right;\">\n",
       "      <th></th>\n",
       "      <th>NumClaimants</th>\n",
       "      <th>ClaimAmount</th>\n",
       "      <th>TotalClaimed</th>\n",
       "      <th>NumClaims</th>\n",
       "      <th>NumSoftTissue</th>\n",
       "      <th>RatioSoftTissue</th>\n",
       "      <th>ClaimAmountReceived</th>\n",
       "      <th>InjuryType_'Broken Limb'</th>\n",
       "      <th>InjuryType_'Soft Tissue'</th>\n",
       "      <th>InjuryType_Back</th>\n",
       "      <th>InjuryType_Serious</th>\n",
       "      <th>OvernightHospitalStay_No</th>\n",
       "      <th>OvernightHospitalStay_Yes</th>\n",
       "    </tr>\n",
       "  </thead>\n",
       "  <tbody>\n",
       "    <tr>\n",
       "      <th>0</th>\n",
       "      <td>3</td>\n",
       "      <td>638.0</td>\n",
       "      <td>5742</td>\n",
       "      <td>3</td>\n",
       "      <td>3.0</td>\n",
       "      <td>1.0</td>\n",
       "      <td>0</td>\n",
       "      <td>False</td>\n",
       "      <td>True</td>\n",
       "      <td>False</td>\n",
       "      <td>False</td>\n",
       "      <td>True</td>\n",
       "      <td>False</td>\n",
       "    </tr>\n",
       "    <tr>\n",
       "      <th>1</th>\n",
       "      <td>1</td>\n",
       "      <td>15876.0</td>\n",
       "      <td>18989</td>\n",
       "      <td>1</td>\n",
       "      <td>1.0</td>\n",
       "      <td>1.0</td>\n",
       "      <td>14156</td>\n",
       "      <td>True</td>\n",
       "      <td>False</td>\n",
       "      <td>False</td>\n",
       "      <td>False</td>\n",
       "      <td>False</td>\n",
       "      <td>True</td>\n",
       "    </tr>\n",
       "    <tr>\n",
       "      <th>2</th>\n",
       "      <td>1</td>\n",
       "      <td>3780.0</td>\n",
       "      <td>7239</td>\n",
       "      <td>1</td>\n",
       "      <td>0.0</td>\n",
       "      <td>0.0</td>\n",
       "      <td>3780</td>\n",
       "      <td>False</td>\n",
       "      <td>True</td>\n",
       "      <td>False</td>\n",
       "      <td>False</td>\n",
       "      <td>True</td>\n",
       "      <td>False</td>\n",
       "    </tr>\n",
       "    <tr>\n",
       "      <th>3</th>\n",
       "      <td>1</td>\n",
       "      <td>5711.0</td>\n",
       "      <td>4248</td>\n",
       "      <td>1</td>\n",
       "      <td>1.0</td>\n",
       "      <td>1.0</td>\n",
       "      <td>5711</td>\n",
       "      <td>False</td>\n",
       "      <td>False</td>\n",
       "      <td>True</td>\n",
       "      <td>False</td>\n",
       "      <td>True</td>\n",
       "      <td>False</td>\n",
       "    </tr>\n",
       "    <tr>\n",
       "      <th>4</th>\n",
       "      <td>3</td>\n",
       "      <td>74365.0</td>\n",
       "      <td>0</td>\n",
       "      <td>0</td>\n",
       "      <td>0.0</td>\n",
       "      <td>0.0</td>\n",
       "      <td>0</td>\n",
       "      <td>False</td>\n",
       "      <td>True</td>\n",
       "      <td>False</td>\n",
       "      <td>False</td>\n",
       "      <td>True</td>\n",
       "      <td>False</td>\n",
       "    </tr>\n",
       "  </tbody>\n",
       "</table>\n",
       "</div>"
      ],
      "text/plain": [
       "   NumClaimants  ClaimAmount  TotalClaimed  NumClaims  NumSoftTissue  \\\n",
       "0             3        638.0          5742          3            3.0   \n",
       "1             1      15876.0         18989          1            1.0   \n",
       "2             1       3780.0          7239          1            0.0   \n",
       "3             1       5711.0          4248          1            1.0   \n",
       "4             3      74365.0             0          0            0.0   \n",
       "\n",
       "   RatioSoftTissue  ClaimAmountReceived  InjuryType_'Broken Limb'  \\\n",
       "0              1.0                    0                     False   \n",
       "1              1.0                14156                      True   \n",
       "2              0.0                 3780                     False   \n",
       "3              1.0                 5711                     False   \n",
       "4              0.0                    0                     False   \n",
       "\n",
       "   InjuryType_'Soft Tissue'  InjuryType_Back  InjuryType_Serious  \\\n",
       "0                      True            False               False   \n",
       "1                     False            False               False   \n",
       "2                      True            False               False   \n",
       "3                     False             True               False   \n",
       "4                      True            False               False   \n",
       "\n",
       "   OvernightHospitalStay_No  OvernightHospitalStay_Yes  \n",
       "0                      True                      False  \n",
       "1                     False                       True  \n",
       "2                      True                      False  \n",
       "3                      True                      False  \n",
       "4                      True                      False  "
      ]
     },
     "execution_count": 11,
     "metadata": {},
     "output_type": "execute_result"
    }
   ],
   "source": [
    "#voici la transformation\n",
    "nouv_df_train.head()"
   ]
  },
  {
   "cell_type": "code",
   "execution_count": 12,
   "metadata": {},
   "outputs": [],
   "source": [
    "#Nous allons compléter le dataFrame nouv_df avec la variable cible dont le nom\n",
    "#peut être renommer par le terme \"class\" pour mieux l'identifier...\n",
    "nouv_df_train['class'] = data_train['Fraude']"
   ]
  },
  {
   "cell_type": "code",
   "execution_count": 13,
   "metadata": {},
   "outputs": [
    {
     "data": {
      "text/html": [
       "<div>\n",
       "<style scoped>\n",
       "    .dataframe tbody tr th:only-of-type {\n",
       "        vertical-align: middle;\n",
       "    }\n",
       "\n",
       "    .dataframe tbody tr th {\n",
       "        vertical-align: top;\n",
       "    }\n",
       "\n",
       "    .dataframe thead th {\n",
       "        text-align: right;\n",
       "    }\n",
       "</style>\n",
       "<table border=\"1\" class=\"dataframe\">\n",
       "  <thead>\n",
       "    <tr style=\"text-align: right;\">\n",
       "      <th></th>\n",
       "      <th>NumClaimants</th>\n",
       "      <th>ClaimAmount</th>\n",
       "      <th>TotalClaimed</th>\n",
       "      <th>NumClaims</th>\n",
       "      <th>NumSoftTissue</th>\n",
       "      <th>RatioSoftTissue</th>\n",
       "      <th>ClaimAmountReceived</th>\n",
       "      <th>InjuryType_'Broken Limb'</th>\n",
       "      <th>InjuryType_'Soft Tissue'</th>\n",
       "      <th>InjuryType_Back</th>\n",
       "      <th>InjuryType_Serious</th>\n",
       "      <th>OvernightHospitalStay_No</th>\n",
       "      <th>OvernightHospitalStay_Yes</th>\n",
       "      <th>class</th>\n",
       "    </tr>\n",
       "  </thead>\n",
       "  <tbody>\n",
       "    <tr>\n",
       "      <th>0</th>\n",
       "      <td>3</td>\n",
       "      <td>638.0</td>\n",
       "      <td>5742</td>\n",
       "      <td>3</td>\n",
       "      <td>3.0</td>\n",
       "      <td>1.0</td>\n",
       "      <td>0</td>\n",
       "      <td>False</td>\n",
       "      <td>True</td>\n",
       "      <td>False</td>\n",
       "      <td>False</td>\n",
       "      <td>True</td>\n",
       "      <td>False</td>\n",
       "      <td>1</td>\n",
       "    </tr>\n",
       "    <tr>\n",
       "      <th>1</th>\n",
       "      <td>1</td>\n",
       "      <td>15876.0</td>\n",
       "      <td>18989</td>\n",
       "      <td>1</td>\n",
       "      <td>1.0</td>\n",
       "      <td>1.0</td>\n",
       "      <td>14156</td>\n",
       "      <td>True</td>\n",
       "      <td>False</td>\n",
       "      <td>False</td>\n",
       "      <td>False</td>\n",
       "      <td>False</td>\n",
       "      <td>True</td>\n",
       "      <td>0</td>\n",
       "    </tr>\n",
       "    <tr>\n",
       "      <th>2</th>\n",
       "      <td>1</td>\n",
       "      <td>3780.0</td>\n",
       "      <td>7239</td>\n",
       "      <td>1</td>\n",
       "      <td>0.0</td>\n",
       "      <td>0.0</td>\n",
       "      <td>3780</td>\n",
       "      <td>False</td>\n",
       "      <td>True</td>\n",
       "      <td>False</td>\n",
       "      <td>False</td>\n",
       "      <td>True</td>\n",
       "      <td>False</td>\n",
       "      <td>0</td>\n",
       "    </tr>\n",
       "    <tr>\n",
       "      <th>3</th>\n",
       "      <td>1</td>\n",
       "      <td>5711.0</td>\n",
       "      <td>4248</td>\n",
       "      <td>1</td>\n",
       "      <td>1.0</td>\n",
       "      <td>1.0</td>\n",
       "      <td>5711</td>\n",
       "      <td>False</td>\n",
       "      <td>False</td>\n",
       "      <td>True</td>\n",
       "      <td>False</td>\n",
       "      <td>True</td>\n",
       "      <td>False</td>\n",
       "      <td>0</td>\n",
       "    </tr>\n",
       "    <tr>\n",
       "      <th>4</th>\n",
       "      <td>3</td>\n",
       "      <td>74365.0</td>\n",
       "      <td>0</td>\n",
       "      <td>0</td>\n",
       "      <td>0.0</td>\n",
       "      <td>0.0</td>\n",
       "      <td>0</td>\n",
       "      <td>False</td>\n",
       "      <td>True</td>\n",
       "      <td>False</td>\n",
       "      <td>False</td>\n",
       "      <td>True</td>\n",
       "      <td>False</td>\n",
       "      <td>1</td>\n",
       "    </tr>\n",
       "  </tbody>\n",
       "</table>\n",
       "</div>"
      ],
      "text/plain": [
       "   NumClaimants  ClaimAmount  TotalClaimed  NumClaims  NumSoftTissue  \\\n",
       "0             3        638.0          5742          3            3.0   \n",
       "1             1      15876.0         18989          1            1.0   \n",
       "2             1       3780.0          7239          1            0.0   \n",
       "3             1       5711.0          4248          1            1.0   \n",
       "4             3      74365.0             0          0            0.0   \n",
       "\n",
       "   RatioSoftTissue  ClaimAmountReceived  InjuryType_'Broken Limb'  \\\n",
       "0              1.0                    0                     False   \n",
       "1              1.0                14156                      True   \n",
       "2              0.0                 3780                     False   \n",
       "3              1.0                 5711                     False   \n",
       "4              0.0                    0                     False   \n",
       "\n",
       "   InjuryType_'Soft Tissue'  InjuryType_Back  InjuryType_Serious  \\\n",
       "0                      True            False               False   \n",
       "1                     False            False               False   \n",
       "2                      True            False               False   \n",
       "3                     False             True               False   \n",
       "4                      True            False               False   \n",
       "\n",
       "   OvernightHospitalStay_No  OvernightHospitalStay_Yes  class  \n",
       "0                      True                      False      1  \n",
       "1                     False                       True      0  \n",
       "2                      True                      False      0  \n",
       "3                      True                      False      0  \n",
       "4                      True                      False      1  "
      ]
     },
     "execution_count": 13,
     "metadata": {},
     "output_type": "execute_result"
    }
   ],
   "source": [
    "nouv_df_train.head()"
   ]
  },
  {
   "cell_type": "code",
   "execution_count": 15,
   "metadata": {},
   "outputs": [],
   "source": [
    "# Séparer les données des variables prédictives (X) de la variable cible (Y)\n",
    "X_train=nouv_df_train.iloc[:,:-1]\n",
    "y_train=nouv_df_train['class']"
   ]
  },
  {
   "cell_type": "markdown",
   "metadata": {},
   "source": [
    "# Entrainement et visualisation"
   ]
  },
  {
   "cell_type": "code",
   "execution_count": 18,
   "metadata": {},
   "outputs": [
    {
     "data": {
      "text/html": [
       "<style>#sk-container-id-3 {color: black;}#sk-container-id-3 pre{padding: 0;}#sk-container-id-3 div.sk-toggleable {background-color: white;}#sk-container-id-3 label.sk-toggleable__label {cursor: pointer;display: block;width: 100%;margin-bottom: 0;padding: 0.3em;box-sizing: border-box;text-align: center;}#sk-container-id-3 label.sk-toggleable__label-arrow:before {content: \"▸\";float: left;margin-right: 0.25em;color: #696969;}#sk-container-id-3 label.sk-toggleable__label-arrow:hover:before {color: black;}#sk-container-id-3 div.sk-estimator:hover label.sk-toggleable__label-arrow:before {color: black;}#sk-container-id-3 div.sk-toggleable__content {max-height: 0;max-width: 0;overflow: hidden;text-align: left;background-color: #f0f8ff;}#sk-container-id-3 div.sk-toggleable__content pre {margin: 0.2em;color: black;border-radius: 0.25em;background-color: #f0f8ff;}#sk-container-id-3 input.sk-toggleable__control:checked~div.sk-toggleable__content {max-height: 200px;max-width: 100%;overflow: auto;}#sk-container-id-3 input.sk-toggleable__control:checked~label.sk-toggleable__label-arrow:before {content: \"▾\";}#sk-container-id-3 div.sk-estimator input.sk-toggleable__control:checked~label.sk-toggleable__label {background-color: #d4ebff;}#sk-container-id-3 div.sk-label input.sk-toggleable__control:checked~label.sk-toggleable__label {background-color: #d4ebff;}#sk-container-id-3 input.sk-hidden--visually {border: 0;clip: rect(1px 1px 1px 1px);clip: rect(1px, 1px, 1px, 1px);height: 1px;margin: -1px;overflow: hidden;padding: 0;position: absolute;width: 1px;}#sk-container-id-3 div.sk-estimator {font-family: monospace;background-color: #f0f8ff;border: 1px dotted black;border-radius: 0.25em;box-sizing: border-box;margin-bottom: 0.5em;}#sk-container-id-3 div.sk-estimator:hover {background-color: #d4ebff;}#sk-container-id-3 div.sk-parallel-item::after {content: \"\";width: 100%;border-bottom: 1px solid gray;flex-grow: 1;}#sk-container-id-3 div.sk-label:hover label.sk-toggleable__label {background-color: #d4ebff;}#sk-container-id-3 div.sk-serial::before {content: \"\";position: absolute;border-left: 1px solid gray;box-sizing: border-box;top: 0;bottom: 0;left: 50%;z-index: 0;}#sk-container-id-3 div.sk-serial {display: flex;flex-direction: column;align-items: center;background-color: white;padding-right: 0.2em;padding-left: 0.2em;position: relative;}#sk-container-id-3 div.sk-item {position: relative;z-index: 1;}#sk-container-id-3 div.sk-parallel {display: flex;align-items: stretch;justify-content: center;background-color: white;position: relative;}#sk-container-id-3 div.sk-item::before, #sk-container-id-3 div.sk-parallel-item::before {content: \"\";position: absolute;border-left: 1px solid gray;box-sizing: border-box;top: 0;bottom: 0;left: 50%;z-index: -1;}#sk-container-id-3 div.sk-parallel-item {display: flex;flex-direction: column;z-index: 1;position: relative;background-color: white;}#sk-container-id-3 div.sk-parallel-item:first-child::after {align-self: flex-end;width: 50%;}#sk-container-id-3 div.sk-parallel-item:last-child::after {align-self: flex-start;width: 50%;}#sk-container-id-3 div.sk-parallel-item:only-child::after {width: 0;}#sk-container-id-3 div.sk-dashed-wrapped {border: 1px dashed gray;margin: 0 0.4em 0.5em 0.4em;box-sizing: border-box;padding-bottom: 0.4em;background-color: white;}#sk-container-id-3 div.sk-label label {font-family: monospace;font-weight: bold;display: inline-block;line-height: 1.2em;}#sk-container-id-3 div.sk-label-container {text-align: center;}#sk-container-id-3 div.sk-container {/* jupyter's `normalize.less` sets `[hidden] { display: none; }` but bootstrap.min.css set `[hidden] { display: none !important; }` so we also need the `!important` here to be able to override the default hidden behavior on the sphinx rendered scikit-learn.org. See: https://github.com/scikit-learn/scikit-learn/issues/21755 */display: inline-block !important;position: relative;}#sk-container-id-3 div.sk-text-repr-fallback {display: none;}</style><div id=\"sk-container-id-3\" class=\"sk-top-container\"><div class=\"sk-text-repr-fallback\"><pre>DecisionTreeClassifier(criterion=&#x27;entropy&#x27;)</pre><b>In a Jupyter environment, please rerun this cell to show the HTML representation or trust the notebook. <br />On GitHub, the HTML representation is unable to render, please try loading this page with nbviewer.org.</b></div><div class=\"sk-container\" hidden><div class=\"sk-item\"><div class=\"sk-estimator sk-toggleable\"><input class=\"sk-toggleable__control sk-hidden--visually\" id=\"sk-estimator-id-3\" type=\"checkbox\" checked><label for=\"sk-estimator-id-3\" class=\"sk-toggleable__label sk-toggleable__label-arrow\">DecisionTreeClassifier</label><div class=\"sk-toggleable__content\"><pre>DecisionTreeClassifier(criterion=&#x27;entropy&#x27;)</pre></div></div></div></div></div>"
      ],
      "text/plain": [
       "DecisionTreeClassifier(criterion='entropy')"
      ]
     },
     "execution_count": 18,
     "metadata": {},
     "output_type": "execute_result"
    }
   ],
   "source": [
    "#Maintenant, nous pouvons entrainer  pour constuire un classeur : clf\n",
    "#en utilisant le nouveau dataframe modifié.: nouv_df.\n",
    "\n",
    "#importation de la classe DecisionTreeClassifier qui implémente l'algorithme C4.5 du cours.\n",
    "\n",
    "#l'option criterion : indique l'utilisation de l'entropie \n",
    "#comme heuristique pour le choix de la meilleure variable\n",
    "\n",
    "from sklearn.tree import DecisionTreeClassifier\n",
    "clf= DecisionTreeClassifier(criterion=\"entropy\")\n",
    "clf.fit(X_train, y_train)"
   ]
  },
  {
   "cell_type": "code",
   "execution_count": 19,
   "metadata": {},
   "outputs": [
    {
     "data": {
      "text/plain": [
       "[Text(0.5, 0.75, 'ClaimAmountReceived <= 199.5\\nentropy = 0.92\\nsamples = 364\\nvalue = [242, 122]'),\n",
       " Text(0.25, 0.25, 'entropy = 0.0\\nsamples = 122\\nvalue = [0, 122]'),\n",
       " Text(0.75, 0.25, 'entropy = 0.0\\nsamples = 242\\nvalue = [242, 0]')]"
      ]
     },
     "execution_count": 19,
     "metadata": {},
     "output_type": "execute_result"
    },
    {
     "data": {
      "image/png": "[encoded data removed]",
      "text/plain": [
       "<Figure size 640x480 with 1 Axes>"
      ]
     },
     "metadata": {},
     "output_type": "display_data"
    }
   ],
   "source": [
    "#affichage de l'arbre\n",
    "from sklearn.tree import plot_tree\n",
    "plot_tree(clf, feature_names=list(nouv_df_train.columns[:-1]), filled=True)"
   ]
  },
  {
   "cell_type": "markdown",
   "metadata": {},
   "source": [
    "## Validation avec un jeu de test\n",
    "\n",
    "Validation du classeur clf avec le jeu de test.\n",
    "Il faut s'assurer que le jeu de test est dans la même configuration\n",
    "que le jeu d'entrainement.\n",
    "Étant que nous avons transformé les variables qualitativesen en nombre,\n",
    "Dans le jeu d'entrainement:\n",
    "1.InjuryType = BrokenLimb,Soft Tissue,Back,Serious\n",
    "2.OvernightHospitalStay=yes/no\n",
    "Il faut faire la même chose dans le cas de jeu de test:\n"
   ]
  },
  {
   "cell_type": "code",
   "execution_count": 22,
   "metadata": {},
   "outputs": [],
   "source": [
    "nouv_df_test=pd.get_dummies(data_test[data_test.columns[:-1]])"
   ]
  },
  {
   "cell_type": "code",
   "execution_count": 23,
   "metadata": {},
   "outputs": [],
   "source": [
    "#il faut aussi renommer la variable cible\n",
    "# et comme la variable cible est nommée Fraude, il faut aussi la renommer en class\n",
    "nouv_df_test['class'] = data_test['Fraude']"
   ]
  },
  {
   "cell_type": "code",
   "execution_count": 24,
   "metadata": {},
   "outputs": [],
   "source": [
    "#séparons les donnees de test des variables prédictives de celles \n",
    "#de la variable cible\n",
    "\n",
    "X_test=nouv_df_test.iloc[:,:-1]\n",
    "y_test=nouv_df_test['class']"
   ]
  },
  {
   "cell_type": "code",
   "execution_count": 25,
   "metadata": {},
   "outputs": [
    {
     "data": {
      "text/plain": [
       "0.9891304347826086"
      ]
     },
     "execution_count": 25,
     "metadata": {},
     "output_type": "execute_result"
    }
   ],
   "source": [
    "#Voici un exemple de résultat de test avec le modele clf obtenu initialement \n",
    "# testé avec les données de test\n",
    "\n",
    "from sklearn.metrics import accuracy_score\n",
    "y_pred = clf.predict(X_test)\n",
    "accuracy_score(y_test, y_pred)\n",
    "\n",
    "# le taux de détection est de l'ordre de :\n"
   ]
  },
  {
   "cell_type": "code",
   "execution_count": 26,
   "metadata": {},
   "outputs": [],
   "source": [
    "#ceci est un excellent début mais il faudrait mener des expérimentation avec \n",
    "#différents échantillons de données d'entrainement de tailles \n",
    "#substantielles pour en tirer des conclusion sur le modèle de prédiction\n",
    "#des fraudes. De plus, il faut passer par l'étape de réglage des hyper-paramètres. en utilsant le GridSearch."
   ]
  },
  {
   "cell_type": "code",
   "execution_count": null,
   "metadata": {},
   "outputs": [],
   "source": []
  }
 ],
 "metadata": {
  "kernelspec": {
   "display_name": "Python 3 (ipykernel)",
   "language": "python",
   "name": "python3"
  },
  "language_info": {
   "codemirror_mode": {
    "name": "ipython",
    "version": 3
   },
   "file_extension": ".py",
   "mimetype": "text/x-python",
   "name": "python",
   "nbconvert_exporter": "python",
   "pygments_lexer": "ipython3",
   "version": "3.11.3"
  },
  "nav_menu": {
   "height": "309px",
   "width": "468px"
  },
  "toc": {
   "navigate_menu": true,
   "number_sections": true,
   "sideBar": true,
   "threshold": 6,
   "toc_cell": false,
   "toc_section_display": "block",
   "toc_window_display": false
  }
 },
 "nbformat": 4,
 "nbformat_minor": 4
}
