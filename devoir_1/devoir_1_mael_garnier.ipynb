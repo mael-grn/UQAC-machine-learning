{
 "cells": [
  {
   "metadata": {
    "ExecuteTime": {
     "end_time": "2025-03-01T17:13:11.504725Z",
     "start_time": "2025-03-01T17:13:11.076711Z"
    }
   },
   "cell_type": "code",
   "source": [
    "#Chargement des données: customer.csv, countryPopulation.csv, countryGDP.csv\n",
    "import pandas as pd # importation du module pandas\n",
    "import numpy as np\n",
    "import matplotlib.pyplot as plt\n",
    "from sklearn.compose import ColumnTransformer\n",
    "from sklearn.model_selection import train_test_split\n",
    "from sklearn.impute import SimpleImputer\n",
    "from sklearn.preprocessing import FunctionTransformer\n",
    "from sklearn.pipeline import Pipeline\n",
    "import seaborn as sns\n",
    "\n",
    "customer = pd.read_csv(\"customer.csv\")\n",
    "countryPopulation = pd.read_csv(\"countryPopulation.csv\")\n",
    "countryGDP = pd.read_csv(\"countryGDP.csv\")\n"
   ],
   "id": "76d6d2799d2bf514",
   "outputs": [],
   "execution_count": 1
  },
  {
   "metadata": {},
   "cell_type": "markdown",
   "source": [
    "# Devoir 1 - 8IAR403\n",
    "Étudiant : *Mael Garnier*\n",
    "\n",
    "\n",
    "Plan :\n",
    "1. Récupération des données\n",
    "    - a. Examen de la structure des données\n",
    "    - b. Création d'un jeu de test\n",
    "2. Mieux comprendre les données\n",
    "3. Nettoyage des données\n",
    "    - a. Remplacement des valeurs manquantes\n",
    "    - b. Remplacement des données aberrantes\n",
    "4. Enrichissement des données\n",
    "5. Pipeline de transformation"
   ],
   "id": "69ff81a6e7b92814"
  },
  {
   "metadata": {},
   "cell_type": "markdown",
   "source": [
    "## 1. Récupération des données\n",
    "\n",
    "### a. Examen de la structure des données\n",
    "\n",
    "Nous pouvons commencer par examiner les données des clients issues du fichier `customer.csv`."
   ],
   "id": "727571d31a6e75c4"
  },
  {
   "metadata": {
    "ExecuteTime": {
     "end_time": "2025-03-01T17:13:11.535872Z",
     "start_time": "2025-03-01T17:13:11.515924Z"
    }
   },
   "cell_type": "code",
   "source": "customer.head()",
   "id": "7d977ce444322433",
   "outputs": [
    {
     "data": {
      "text/plain": [
       "    age  pages first_item_prize gender  ReBuy  News_click country revenue\n",
       "0  41.0    6.0             28.0    Fem  False         4.0   China     113\n",
       "1  34.0    4.0             15.5    Fem   True         2.0   China      36\n",
       "2  38.0    5.0                ?    Fem  False         7.0   China     111\n",
       "3  20.0    1.0             44.0    Fem  False         2.0   China      71\n",
       "4  39.0   10.0             10.0    Fem   True         4.0   China      80"
      ],
      "text/html": [
       "<div>\n",
       "<style scoped>\n",
       "    .dataframe tbody tr th:only-of-type {\n",
       "        vertical-align: middle;\n",
       "    }\n",
       "\n",
       "    .dataframe tbody tr th {\n",
       "        vertical-align: top;\n",
       "    }\n",
       "\n",
       "    .dataframe thead th {\n",
       "        text-align: right;\n",
       "    }\n",
       "</style>\n",
       "<table border=\"1\" class=\"dataframe\">\n",
       "  <thead>\n",
       "    <tr style=\"text-align: right;\">\n",
       "      <th></th>\n",
       "      <th>age</th>\n",
       "      <th>pages</th>\n",
       "      <th>first_item_prize</th>\n",
       "      <th>gender</th>\n",
       "      <th>ReBuy</th>\n",
       "      <th>News_click</th>\n",
       "      <th>country</th>\n",
       "      <th>revenue</th>\n",
       "    </tr>\n",
       "  </thead>\n",
       "  <tbody>\n",
       "    <tr>\n",
       "      <th>0</th>\n",
       "      <td>41.0</td>\n",
       "      <td>6.0</td>\n",
       "      <td>28.0</td>\n",
       "      <td>Fem</td>\n",
       "      <td>False</td>\n",
       "      <td>4.0</td>\n",
       "      <td>China</td>\n",
       "      <td>113</td>\n",
       "    </tr>\n",
       "    <tr>\n",
       "      <th>1</th>\n",
       "      <td>34.0</td>\n",
       "      <td>4.0</td>\n",
       "      <td>15.5</td>\n",
       "      <td>Fem</td>\n",
       "      <td>True</td>\n",
       "      <td>2.0</td>\n",
       "      <td>China</td>\n",
       "      <td>36</td>\n",
       "    </tr>\n",
       "    <tr>\n",
       "      <th>2</th>\n",
       "      <td>38.0</td>\n",
       "      <td>5.0</td>\n",
       "      <td>?</td>\n",
       "      <td>Fem</td>\n",
       "      <td>False</td>\n",
       "      <td>7.0</td>\n",
       "      <td>China</td>\n",
       "      <td>111</td>\n",
       "    </tr>\n",
       "    <tr>\n",
       "      <th>3</th>\n",
       "      <td>20.0</td>\n",
       "      <td>1.0</td>\n",
       "      <td>44.0</td>\n",
       "      <td>Fem</td>\n",
       "      <td>False</td>\n",
       "      <td>2.0</td>\n",
       "      <td>China</td>\n",
       "      <td>71</td>\n",
       "    </tr>\n",
       "    <tr>\n",
       "      <th>4</th>\n",
       "      <td>39.0</td>\n",
       "      <td>10.0</td>\n",
       "      <td>10.0</td>\n",
       "      <td>Fem</td>\n",
       "      <td>True</td>\n",
       "      <td>4.0</td>\n",
       "      <td>China</td>\n",
       "      <td>80</td>\n",
       "    </tr>\n",
       "  </tbody>\n",
       "</table>\n",
       "</div>"
      ]
     },
     "execution_count": 2,
     "metadata": {},
     "output_type": "execute_result"
    }
   ],
   "execution_count": 2
  },
  {
   "metadata": {},
   "cell_type": "markdown",
   "source": [
    "Nous avons un premier apercu des données avec les CINQ premières lignes.\n",
    "Nous remarquons que nous avons les variables suivantes :\n",
    "- `age`\n",
    "- `pages`\n",
    "- `first_item_prize`\n",
    "- `gender`\n",
    "- `ReBuy`\n",
    "- `News_Click`\n",
    "- `country`\n",
    "- `revenue`\n",
    "\n",
    "Nous avons quelques exemples de données, et nous pouvons déjà remarquer que certaines variables sont manquantes, remplacées par exemple par le caractère `?`.\n",
    "\n",
    "Utilisons la methode `info()` pour obtenir une description des données."
   ],
   "id": "be2951f59c35cc4"
  },
  {
   "metadata": {
    "ExecuteTime": {
     "end_time": "2025-03-01T17:13:11.909749Z",
     "start_time": "2025-03-01T17:13:11.895856Z"
    }
   },
   "cell_type": "code",
   "source": "customer.info()",
   "id": "1ec1d257dd6f72e0",
   "outputs": [
    {
     "name": "stdout",
     "output_type": "stream",
     "text": [
      "<class 'pandas.core.frame.DataFrame'>\n",
      "RangeIndex: 10000 entries, 0 to 9999\n",
      "Data columns (total 8 columns):\n",
      " #   Column            Non-Null Count  Dtype  \n",
      "---  ------            --------------  -----  \n",
      " 0   age               10000 non-null  float64\n",
      " 1   pages             10000 non-null  float64\n",
      " 2   first_item_prize  10000 non-null  object \n",
      " 3   gender            10000 non-null  object \n",
      " 4   ReBuy             10000 non-null  bool   \n",
      " 5   News_click        10000 non-null  float64\n",
      " 6   country           10000 non-null  object \n",
      " 7   revenue           10000 non-null  object \n",
      "dtypes: bool(1), float64(3), object(4)\n",
      "memory usage: 556.8+ KB\n"
     ]
    }
   ],
   "execution_count": 3
  },
  {
   "metadata": {},
   "cell_type": "markdown",
   "source": [
    "Nous remarqons qu'il y a **10 000 lignes** et **8 colonnes**.\n",
    "Nous avons différents types de variables : `float64` (quantitatif), `object` (qualitatif) et `bool` (qualitatif).\n",
    "\n",
    "A noter que certaines colonnes dont les variables sont de type `object` sont peut-être des variables quantitatives dont certaines valeurs sont manquantes et ont été remplacées par *?* ou *unknown*.\n",
    "\n",
    "Nous pouvons obtenir plus d'informations sur des variables spécifiques.\n",
    "Nous remarquons ci-dessous que 462 personnes ont 35 ans, 461 ont 36 ans ou encore 454 ont 38 ans."
   ],
   "id": "aeb19fedef005f14"
  },
  {
   "metadata": {
    "ExecuteTime": {
     "end_time": "2025-03-01T17:13:12.003560Z",
     "start_time": "2025-03-01T17:13:11.987058Z"
    }
   },
   "cell_type": "code",
   "source": "customer['age'].value_counts()",
   "id": "46acda4fa2d4bfd7",
   "outputs": [
    {
     "data": {
      "text/plain": [
       "age\n",
       "35.0    462\n",
       "36.0    461\n",
       "38.0    454\n",
       "34.0    447\n",
       "37.0    441\n",
       "       ... \n",
       "65.0     10\n",
       "63.0     10\n",
       "71.0      9\n",
       "75.0      9\n",
       "70.0      6\n",
       "Name: count, Length: 62, dtype: int64"
      ]
     },
     "execution_count": 4,
     "metadata": {},
     "output_type": "execute_result"
    }
   ],
   "execution_count": 4
  },
  {
   "metadata": {},
   "cell_type": "markdown",
   "source": "Examinons maintenant un récapitulatif des variables numériques.",
   "id": "33634742ee76b881"
  },
  {
   "metadata": {
    "ExecuteTime": {
     "end_time": "2025-03-01T17:13:12.097594Z",
     "start_time": "2025-03-01T17:13:12.084348Z"
    }
   },
   "cell_type": "code",
   "source": "customer.describe()",
   "id": "ba83e1e38e3daef4",
   "outputs": [
    {
     "data": {
      "text/plain": [
       "                age         pages    News_click\n",
       "count  10000.000000  10000.000000  10000.000000\n",
       "mean      37.431400      5.995000      4.412000\n",
       "std        9.490474      2.438559      2.418231\n",
       "min       18.000000      1.000000      0.000000\n",
       "25%       31.000000      5.000000      3.000000\n",
       "50%       37.000000      6.000000      4.000000\n",
       "75%       43.000000      7.000000      6.000000\n",
       "max       79.000000     14.000000     10.000000"
      ],
      "text/html": [
       "<div>\n",
       "<style scoped>\n",
       "    .dataframe tbody tr th:only-of-type {\n",
       "        vertical-align: middle;\n",
       "    }\n",
       "\n",
       "    .dataframe tbody tr th {\n",
       "        vertical-align: top;\n",
       "    }\n",
       "\n",
       "    .dataframe thead th {\n",
       "        text-align: right;\n",
       "    }\n",
       "</style>\n",
       "<table border=\"1\" class=\"dataframe\">\n",
       "  <thead>\n",
       "    <tr style=\"text-align: right;\">\n",
       "      <th></th>\n",
       "      <th>age</th>\n",
       "      <th>pages</th>\n",
       "      <th>News_click</th>\n",
       "    </tr>\n",
       "  </thead>\n",
       "  <tbody>\n",
       "    <tr>\n",
       "      <th>count</th>\n",
       "      <td>10000.000000</td>\n",
       "      <td>10000.000000</td>\n",
       "      <td>10000.000000</td>\n",
       "    </tr>\n",
       "    <tr>\n",
       "      <th>mean</th>\n",
       "      <td>37.431400</td>\n",
       "      <td>5.995000</td>\n",
       "      <td>4.412000</td>\n",
       "    </tr>\n",
       "    <tr>\n",
       "      <th>std</th>\n",
       "      <td>9.490474</td>\n",
       "      <td>2.438559</td>\n",
       "      <td>2.418231</td>\n",
       "    </tr>\n",
       "    <tr>\n",
       "      <th>min</th>\n",
       "      <td>18.000000</td>\n",
       "      <td>1.000000</td>\n",
       "      <td>0.000000</td>\n",
       "    </tr>\n",
       "    <tr>\n",
       "      <th>25%</th>\n",
       "      <td>31.000000</td>\n",
       "      <td>5.000000</td>\n",
       "      <td>3.000000</td>\n",
       "    </tr>\n",
       "    <tr>\n",
       "      <th>50%</th>\n",
       "      <td>37.000000</td>\n",
       "      <td>6.000000</td>\n",
       "      <td>4.000000</td>\n",
       "    </tr>\n",
       "    <tr>\n",
       "      <th>75%</th>\n",
       "      <td>43.000000</td>\n",
       "      <td>7.000000</td>\n",
       "      <td>6.000000</td>\n",
       "    </tr>\n",
       "    <tr>\n",
       "      <th>max</th>\n",
       "      <td>79.000000</td>\n",
       "      <td>14.000000</td>\n",
       "      <td>10.000000</td>\n",
       "    </tr>\n",
       "  </tbody>\n",
       "</table>\n",
       "</div>"
      ]
     },
     "execution_count": 5,
     "metadata": {},
     "output_type": "execute_result"
    }
   ],
   "execution_count": 5
  },
  {
   "metadata": {},
   "cell_type": "markdown",
   "source": [
    "Les variables `age`, `pages`, et `News_click` sont des variables numériques.\n",
    "\n",
    "Nous avons des données interessantes :\n",
    "- La moyenne d'age est environ de 37.43 ans\n",
    "- La moyenne de page visitée est environ de 6.00\n",
    "- Le nombre de clicks sur des campagnes de publicité est en moyenne de 4.41\n",
    "- L'ecart type de l'age est de 9.49 ans\n",
    "- le maximum de pages visitées est de 14\n",
    "\n",
    "\n",
    "Faisons nous maintenant une idée des données en construisant des histogrammes."
   ],
   "id": "5e4d7180ef08dff7"
  },
  {
   "metadata": {
    "ExecuteTime": {
     "end_time": "2025-03-01T17:13:12.901004Z",
     "start_time": "2025-03-01T17:13:12.193292Z"
    }
   },
   "cell_type": "code",
   "source": [
    "customer.hist(bins=50, figsize=(20,15))\n",
    "plt.show()"
   ],
   "id": "358cccfb30cd871b",
   "outputs": [
    {
     "data": {
      "text/plain": [
       "<Figure size 2000x1500 with 4 Axes>"
      ],
      "image/png": "[encoded data removed]"
     },
     "metadata": {},
     "output_type": "display_data"
    }
   ],
   "execution_count": 6
  },
  {
   "metadata": {},
   "cell_type": "markdown",
   "source": [
    "### b. Création d'un jeu de test\n",
    "\n",
    "Le jeu de données étant assez important, nous n'avons pas besoin d'introduire un biais d'échantillonnage.\n",
    "\n",
    "Nous pouvons ainsi créer notre jeu de test à partir des données existantes, en prenant 20% aléatoirement."
   ],
   "id": "2cb2d42824d7881"
  },
  {
   "metadata": {
    "ExecuteTime": {
     "end_time": "2025-03-01T17:13:12.964202Z",
     "start_time": "2025-03-01T17:13:12.950008Z"
    }
   },
   "cell_type": "code",
   "source": [
    "train_set, test_set = train_test_split(customer, test_size=0.2,\n",
    "                                       random_state=5)\n",
    "\n",
    "test_set.info()"
   ],
   "id": "f9f4b4ebc370c751",
   "outputs": [
    {
     "name": "stdout",
     "output_type": "stream",
     "text": [
      "<class 'pandas.core.frame.DataFrame'>\n",
      "Index: 2000 entries, 7054 to 3081\n",
      "Data columns (total 8 columns):\n",
      " #   Column            Non-Null Count  Dtype  \n",
      "---  ------            --------------  -----  \n",
      " 0   age               2000 non-null   float64\n",
      " 1   pages             2000 non-null   float64\n",
      " 2   first_item_prize  2000 non-null   object \n",
      " 3   gender            2000 non-null   object \n",
      " 4   ReBuy             2000 non-null   bool   \n",
      " 5   News_click        2000 non-null   float64\n",
      " 6   country           2000 non-null   object \n",
      " 7   revenue           2000 non-null   object \n",
      "dtypes: bool(1), float64(3), object(4)\n",
      "memory usage: 127.0+ KB\n"
     ]
    }
   ],
   "execution_count": 7
  },
  {
   "metadata": {},
   "cell_type": "markdown",
   "source": [
    "## 2. Mieux comprendre les données\n",
    "\n",
    "Commençons par faire une copie du jeu de données d'entrainement pour le manipuler sans détériorer l'original."
   ],
   "id": "680f98d6ee452b53"
  },
  {
   "metadata": {
    "ExecuteTime": {
     "end_time": "2025-03-01T17:13:13.010687Z",
     "start_time": "2025-03-01T17:13:13.003159Z"
    }
   },
   "cell_type": "code",
   "source": "train_set_copy = train_set.copy()",
   "id": "3b9356904a1e8c20",
   "outputs": [],
   "execution_count": 8
  },
  {
   "metadata": {},
   "cell_type": "markdown",
   "source": "Nous pouvons calculer le coefficient de corrélation de Pearson entre les variables numériques restantes. Cela permet de quantifier la relation linéaire entre ces variables.",
   "id": "3f4cf8070326d3b3"
  },
  {
   "metadata": {
    "ExecuteTime": {
     "end_time": "2025-03-01T17:13:13.198497Z",
     "start_time": "2025-03-01T17:13:13.060212Z"
    }
   },
   "cell_type": "code",
   "source": [
    "# Calcul des corrélations entre les variables numériques\n",
    "correlation_matrix = train_set_copy[['age', 'pages', 'News_click']].corr()\n",
    "print(correlation_matrix)\n",
    "\n",
    "# Heatmap pour visualiser les corrélations\n",
    "sns.heatmap(correlation_matrix, annot=True, cmap='coolwarm', vmin=-1, vmax=1)\n",
    "plt.title(\"Matrice de corrélation entre les variables numériques\")\n",
    "plt.show()\n"
   ],
   "id": "fe6e17668afa538d",
   "outputs": [
    {
     "name": "stdout",
     "output_type": "stream",
     "text": [
      "                 age     pages  News_click\n",
      "age         1.000000  0.001249   -0.008452\n",
      "pages       0.001249  1.000000   -0.011475\n",
      "News_click -0.008452 -0.011475    1.000000\n"
     ]
    },
    {
     "data": {
      "text/plain": [
       "<Figure size 640x480 with 2 Axes>"
      ],
      "image/png": "[encoded data removed]"
     },
     "metadata": {},
     "output_type": "display_data"
    }
   ],
   "execution_count": 9
  },
  {
   "metadata": {},
   "cell_type": "markdown",
   "source": "Des valeurs proches de 1 ou -1 signifient une forte correlation. Grace a ce graphique, on peut réaliser que les variables `age`, `pages`, et `News_click` sont très peu corrélées entre elles.",
   "id": "e3bd3d2de1afe36"
  },
  {
   "metadata": {},
   "cell_type": "markdown",
   "source": [
    "## 3. Nettoyage des données\n",
    "\n",
    "### a. Remplacement des valeurs manquantes\n",
    "\n",
    "Commencons par récolter des informations sur le type des colonnes sur la nouvelle version de customer."
   ],
   "id": "b8b1195ac70ced13"
  },
  {
   "metadata": {
    "ExecuteTime": {
     "end_time": "2025-03-01T17:13:13.245251Z",
     "start_time": "2025-03-01T17:13:13.232107Z"
    }
   },
   "cell_type": "code",
   "source": "test_set.info()",
   "id": "bd618360cb4e12e7",
   "outputs": [
    {
     "name": "stdout",
     "output_type": "stream",
     "text": [
      "<class 'pandas.core.frame.DataFrame'>\n",
      "Index: 2000 entries, 7054 to 3081\n",
      "Data columns (total 8 columns):\n",
      " #   Column            Non-Null Count  Dtype  \n",
      "---  ------            --------------  -----  \n",
      " 0   age               2000 non-null   float64\n",
      " 1   pages             2000 non-null   float64\n",
      " 2   first_item_prize  2000 non-null   object \n",
      " 3   gender            2000 non-null   object \n",
      " 4   ReBuy             2000 non-null   bool   \n",
      " 5   News_click        2000 non-null   float64\n",
      " 6   country           2000 non-null   object \n",
      " 7   revenue           2000 non-null   object \n",
      "dtypes: bool(1), float64(3), object(4)\n",
      "memory usage: 127.0+ KB\n"
     ]
    }
   ],
   "execution_count": 10
  },
  {
   "metadata": {},
   "cell_type": "markdown",
   "source": [
    "Etan donné que le jeu de données contient 2000 entrées et que chacune des colonnes contiennent 2000 elements, nous pouvons en déduire que les valeurs manquantes seront sous la forme d'objets `?`, `unknown` ou autre.\n",
    "\n",
    "Les variables `first_item_prize`, `gender`, `country`, et `revenue` sont de type `object`. Or, en consultant les quelques lignes du jeu de données, nous remarquons rapidement que les variables `first_item_prize` et `revenue` sont des données quantitatives. Ce sont donc les données que nous allons devoir traiter dans le nettoyage, pour pouvoir les transformer en type numérique.\n",
    "\n",
    "Notre stratégie va être la suivante :\n",
    "- **Etape 1** : Dans les deux colonnes `first_item_prize` et `revenue`, nous allons remplacer les valeurs manquantes (que nous allons identifier en recherchant les valeurs qui ne peuvent pas êtres convertis en nombre) par `NaN`.\n",
    "- **Etape 2** : Nous allons convertir les colonnes `first_item_prize` et `revenue` en types numériques (`int64` et `float64` respectivement) grace a la fonction `to_numeric()` de Pandas.\n",
    "- **Etape 3** : Nous allons utiliser SimpleImputer pour calculer la médiane de ces colonnes et remplacer les valeurs manquantes par cette médiane.\n",
    "\n",
    "Cette stratégie sera implémentée dans une seule fonction (commentée) replace_missing_values qui prends en paramètre notre DataFrame, soit `customer`."
   ],
   "id": "38b7f50e8012924f"
  },
  {
   "metadata": {
    "ExecuteTime": {
     "end_time": "2025-03-01T17:13:13.308427Z",
     "start_time": "2025-03-01T17:13:13.279650Z"
    }
   },
   "cell_type": "code",
   "source": [
    "# Cette fonction va effectuer les actions suivantes :\n",
    "# 1. Dans les colonnes mentionnées dans cols_to_numeric, on remplace les valeurs manquantes (qu'on identifie comme des valeurs qui ne peuvent pas être transformées en valeurs quantitatives) par NaN\n",
    "# 2. On convertit les colonnes cols_to_numeric en types numériques (respectivement int64 et float64)\n",
    "# 3. On remplace les valeurs manquantes par la médiane de ces colonnes avec SimpleImputer\n",
    "def replace_missing_values_function(X, cols_to_numeric, cols_to_exclude):\n",
    "\n",
    "    for col in cols_to_numeric:\n",
    "        X[col] = pd.to_numeric(X[col], errors='coerce')\n",
    "\n",
    "    # ETAPE 3\n",
    "    # Instanciation de la classe SimpleImputer\n",
    "    imputer = SimpleImputer(strategy=\"median\")\n",
    "\n",
    "    # Séparer les colonnes numériques\n",
    "    x_num = X.drop(columns=cols_to_exclude, axis=1)\n",
    "\n",
    "    # On applique la méthode fit() de l'objet imputer à notre jeu de données\n",
    "    imputer.fit(x_num)\n",
    "\n",
    "    # On utilise maintenant cet imputer entrainé pour remplacer les valeurs manquantes par la médiane\n",
    "    x_num_tr = imputer.transform(x_num)\n",
    "\n",
    "    # On recrée un DataFrame avec les valeurs manquantes remplacées\n",
    "    x_tr = pd.DataFrame(x_num_tr, columns=x_num.columns,\n",
    "                          index=X.index)\n",
    "\n",
    "    # Réintégrer les colonnes qualitatives\n",
    "    x_tr[cols_to_exclude] = X[cols_to_exclude]\n",
    "\n",
    "    return x_tr\n",
    "\n",
    "# On applique la fonction à notre jeu de données\n",
    "test_set = replace_missing_values_function(test_set, cols_to_numeric=[\"first_item_prize\", \"revenue\"], cols_to_exclude=[\"gender\", \"ReBuy\", \"country\"])\n",
    "test_set.info()"
   ],
   "id": "4c50be12fdc55cf1",
   "outputs": [
    {
     "name": "stdout",
     "output_type": "stream",
     "text": [
      "<class 'pandas.core.frame.DataFrame'>\n",
      "Index: 2000 entries, 7054 to 3081\n",
      "Data columns (total 8 columns):\n",
      " #   Column            Non-Null Count  Dtype  \n",
      "---  ------            --------------  -----  \n",
      " 0   age               2000 non-null   float64\n",
      " 1   pages             2000 non-null   float64\n",
      " 2   first_item_prize  2000 non-null   float64\n",
      " 3   News_click        2000 non-null   float64\n",
      " 4   revenue           2000 non-null   float64\n",
      " 5   gender            2000 non-null   object \n",
      " 6   ReBuy             2000 non-null   bool   \n",
      " 7   country           2000 non-null   object \n",
      "dtypes: bool(1), float64(5), object(2)\n",
      "memory usage: 127.0+ KB\n"
     ]
    }
   ],
   "execution_count": 11
  },
  {
   "metadata": {},
   "cell_type": "markdown",
   "source": [
    "Nous remarquons que suite à execution de la fonction, les colonnes `first_item_prize` et `revenue` ont été converties en types numériques (`float64`) et les valeurs manquantes ont été remplacées par la médiane de ces colonnes.\n",
    "\n",
    "On peut maintenant transformer la fonction en transformateur, pour pouvoir plus tard l'integrer facilement dans un pipeline de transformation.\n",
    "\n"
   ],
   "id": "48c3b0dffe62a3bd"
  },
  {
   "metadata": {
    "ExecuteTime": {
     "end_time": "2025-03-01T17:13:13.355570Z",
     "start_time": "2025-03-01T17:13:13.341273Z"
    }
   },
   "cell_type": "code",
   "source": [
    "replace_missing_values_customer = FunctionTransformer(\n",
    "    replace_missing_values_function,\n",
    "    validate=False,\n",
    "    kw_args={\n",
    "        \"cols_to_numeric\": [\"first_item_prize\", \"revenue\"],\n",
    "        \"cols_to_exclude\": [\"gender\", \"ReBuy\", \"country\"]\n",
    "    }\n",
    ")"
   ],
   "id": "b85a50a49fc32288",
   "outputs": [],
   "execution_count": 12
  },
  {
   "metadata": {},
   "cell_type": "markdown",
   "source": [
    "### b. Remplacement des données aberrantes\n",
    "\n",
    "Nous voulons savoir si certaines données s'écartent significativement des autres observations dans notre jeu de données.\n",
    "\n",
    "Pour cela, nous allons commencer par visualiser les données grace a un graphique de type `boxplot` (ou boîte à moustaches)."
   ],
   "id": "f44396e40691ca3a"
  },
  {
   "metadata": {
    "ExecuteTime": {
     "end_time": "2025-03-01T17:13:13.543208Z",
     "start_time": "2025-03-01T17:13:13.388651Z"
    }
   },
   "cell_type": "code",
   "source": "test_set.boxplot(figsize=(20,10))",
   "id": "ebdc7ccb1ac2cb34",
   "outputs": [
    {
     "data": {
      "text/plain": [
       "<Axes: >"
      ]
     },
     "execution_count": 13,
     "metadata": {},
     "output_type": "execute_result"
    },
    {
     "data": {
      "text/plain": [
       "<Figure size 2000x1000 with 1 Axes>"
      ],
      "image/png": "[encoded data removed]"
     },
     "metadata": {},
     "output_type": "display_data"
    }
   ],
   "execution_count": 13
  },
  {
   "metadata": {},
   "cell_type": "markdown",
   "source": [
    "Afin d'identifier des données aberrantes, nous recherchons les données se trouvant au-dessus de la *moustache supérieure*.\n",
    "\n",
    "Dans le graphique ci-dessus, nous remarquons rapidement que la variable `revenue` contient des données aberrantes, car nous remarquons des points (et donc des valeurs) qui se trouvent au-dessus de la *moustache supérieure*.\n",
    "\n",
    "Cela signifie que la variable `revenue` contient des données aberrantes que nous devrons remplacer.\n",
    "\n",
    "Mais les données de cette variable sont beaucoup plus élevées que toutes les autres, ainsi nous ne pouvons correctement visualiser les autres variables.\n",
    "\n",
    "Pour cela, nous allons isoler temporairement la variable `revenue`."
   ],
   "id": "9ddded84207ab1fb"
  },
  {
   "metadata": {
    "ExecuteTime": {
     "end_time": "2025-03-01T17:13:13.713548Z",
     "start_time": "2025-03-01T17:13:13.576662Z"
    }
   },
   "cell_type": "code",
   "source": [
    "customer_without_revenue = test_set.drop(columns=[\"revenue\"], axis=1)\n",
    "customer_without_revenue.boxplot(figsize=(20,10))"
   ],
   "id": "62f209d009ad3f21",
   "outputs": [
    {
     "data": {
      "text/plain": [
       "<Axes: >"
      ]
     },
     "execution_count": 14,
     "metadata": {},
     "output_type": "execute_result"
    },
    {
     "data": {
      "text/plain": [
       "<Figure size 2000x1000 with 1 Axes>"
      ],
      "image/png": "[encoded data removed]"
     },
     "metadata": {},
     "output_type": "display_data"
    }
   ],
   "execution_count": 14
  },
  {
   "metadata": {},
   "cell_type": "markdown",
   "source": [
    "Maintenant, nous remarquons que les variables `age`, `pages` et `first_item_prize` ont toutes des données aberrantes, pour la meme raison que la variable `revenue`.\n",
    "\n",
    "Cependant, la donnée aberrante la plus élevée pour `age` est 80, or cela reste une valeur plausible. Nous allons donc nous concentrer sur les variables `pages`, `first_item_prize` et `revenue`.\n"
   ],
   "id": "d7d4e9ae3553b525"
  },
  {
   "metadata": {
    "ExecuteTime": {
     "end_time": "2025-03-01T17:13:13.901415Z",
     "start_time": "2025-03-01T17:13:13.746893Z"
    }
   },
   "cell_type": "code",
   "source": [
    "def replace_outliers_with_interpolation_function(X, cols_to_exclude):\n",
    "\n",
    "    # Séparer les colonnes numériques\n",
    "    x_num = X.drop(columns=cols_to_exclude, axis=1)\n",
    "\n",
    "    # Calcul des quartiles et de l'IQR pour chaque variable\n",
    "    Q1 = x_num.quantile(0.25)\n",
    "    Q3 = x_num.quantile(0.75)\n",
    "    IQR = Q3 - Q1\n",
    "\n",
    "    # Définition des bornes inférieure et supérieure\n",
    "    lower_bound = Q1 - 1.5 * IQR\n",
    "    upper_bound = Q3 + 1.5 * IQR\n",
    "\n",
    "    # Remplacement des valeurs aberrantes par interpolation\n",
    "    # On itère sur chaque colonne\n",
    "    # Utilisation de np.where pour remplacer les valeurs aberrantes par NaN\n",
    "    # Utilisation de la méthode interpolate() pour remplacer les NaN par des valeurs interpolées\n",
    "    for column in x_num.columns:\n",
    "        x_num[column] = np.where(\n",
    "            (x_num[column] < lower_bound[column]) | (x_num[column] > upper_bound[column]),\n",
    "            np.nan,\n",
    "            x_num[column]\n",
    "        )\n",
    "\n",
    "        # L'interpolation en suivant une methode linéaire ne donnera pas des résultats satisfaisant pour la colonne revenue, car les données ne suivent pas exactement un patterne linéaire et certaines données pourront toujours se trouver en dehors des bornes.\n",
    "        # On utilise donc la méthode slinear qui est une interpolation linéaire plus souple\n",
    "        x_num[column] = x_num[column].interpolate(method='slinear', limit_direction='both')\n",
    "\n",
    "    # Réintégrer les colonnes qualitatives\n",
    "    x_num[cols_to_exclude] = X[cols_to_exclude]\n",
    "\n",
    "    return x_num\n",
    "\n",
    "# On applique la fonction à notre jeu de données\n",
    "test_set = replace_outliers_with_interpolation_function(test_set, [\"gender\", \"ReBuy\", \"country\", \"age\"])\n",
    "\n",
    "test_set.boxplot(figsize=(20,10))"
   ],
   "id": "7be056abdaa6fc67",
   "outputs": [
    {
     "data": {
      "text/plain": [
       "<Axes: >"
      ]
     },
     "execution_count": 15,
     "metadata": {},
     "output_type": "execute_result"
    },
    {
     "data": {
      "text/plain": [
       "<Figure size 2000x1000 with 1 Axes>"
      ],
      "image/png": "[encoded data removed]"
     },
     "metadata": {},
     "output_type": "display_data"
    }
   ],
   "execution_count": 15
  },
  {
   "metadata": {},
   "cell_type": "markdown",
   "source": [
    "On remarque que nos données aberrantes ont presque toutes disparues. Seulement quelques-unes subsistent pour la variable `revenue`, mais sont négligeables, car peu nombreuses et très proche de la limite.\n",
    "\n",
    "Nous pouvons maintenant transformer la fonction en transformateur, pour pouvoir plus tard l'integrer facilement dans un pipeline de transformation."
   ],
   "id": "13eca895e6512261"
  },
  {
   "metadata": {
    "ExecuteTime": {
     "end_time": "2025-03-01T17:13:13.947750Z",
     "start_time": "2025-03-01T17:13:13.934087Z"
    }
   },
   "cell_type": "code",
   "source": [
    "replace_outliers_customer = FunctionTransformer(\n",
    "    replace_outliers_with_interpolation_function,\n",
    "    validate=False,\n",
    "    kw_args={\n",
    "        \"cols_to_exclude\": [\"gender\", \"ReBuy\", \"country\", \"age\"]\n",
    "    }\n",
    ")"
   ],
   "id": "773b99b7d2025582",
   "outputs": [],
   "execution_count": 16
  },
  {
   "metadata": {},
   "cell_type": "markdown",
   "source": [
    "## 4. Enrichissement des données\n",
    "\n",
    "Commencons par étudier le contenu de nos deux nouveaux jeux de données `countryPopulation` et `countryGDP`."
   ],
   "id": "1ceb1a6a8036363c"
  },
  {
   "metadata": {
    "ExecuteTime": {
     "end_time": "2025-03-01T17:13:13.995415Z",
     "start_time": "2025-03-01T17:13:13.981641Z"
    }
   },
   "cell_type": "code",
   "source": "countryGDP.info()",
   "id": "7fe74c3d328d34a1",
   "outputs": [
    {
     "name": "stdout",
     "output_type": "stream",
     "text": [
      "<class 'pandas.core.frame.DataFrame'>\n",
      "RangeIndex: 188 entries, 0 to 187\n",
      "Data columns (total 2 columns):\n",
      " #   Column     Non-Null Count  Dtype \n",
      "---  ------     --------------  ----- \n",
      " 0   Country    188 non-null    object\n",
      " 1   GDP_inhab  188 non-null    int64 \n",
      "dtypes: int64(1), object(1)\n",
      "memory usage: 3.1+ KB\n"
     ]
    }
   ],
   "execution_count": 17
  },
  {
   "metadata": {},
   "cell_type": "markdown",
   "source": "Dans le cas de countryGDP nous avons deux colonnes dont l'une est de type `object` et l'autre de type `int64`. Cela est correct, nous n'avons pas besoin de faire de correction sur les types.",
   "id": "ad9bfe05ec4a6a28"
  },
  {
   "metadata": {
    "ExecuteTime": {
     "end_time": "2025-03-01T17:13:14.043173Z",
     "start_time": "2025-03-01T17:13:14.031677Z"
    }
   },
   "cell_type": "code",
   "source": "countryPopulation.info()",
   "id": "5489fc6906a6a26d",
   "outputs": [
    {
     "name": "stdout",
     "output_type": "stream",
     "text": [
      "<class 'pandas.core.frame.DataFrame'>\n",
      "RangeIndex: 220 entries, 0 to 219\n",
      "Data columns (total 2 columns):\n",
      " #   Column      Non-Null Count  Dtype \n",
      "---  ------      --------------  ----- \n",
      " 0   Country     220 non-null    object\n",
      " 1   population  220 non-null    int64 \n",
      "dtypes: int64(1), object(1)\n",
      "memory usage: 3.6+ KB\n"
     ]
    }
   ],
   "execution_count": 18
  },
  {
   "metadata": {},
   "cell_type": "markdown",
   "source": [
    "Nous pouvons faire les memes observations pour countryPopulation.\n",
    "\n",
    "Nous allons maintenant pouvoir réaliser la fonction permettant d'enrichir notre jeu de données `customer` avec les données de `countryPopulation`, et `countryGDP` si besoins.\n",
    "\n",
    "Notre stratégie va être la suivante :\n",
    "- **Etape 1** : Nous allons remplacer les valeurs manquantes dans le nouveau jeu de données.\n",
    "- **Etape 2** : Nous allons corriger le titre de la colonne `Country` pour pouvoir faire une jointure.\n",
    "- **Etape 3** : Nous allons mettre en minuscule les noms des pays pour pouvoir faire une jointure.\n",
    "- **Etape 4** : Nous allons faire une jointure entre notre jeu de données et le nouveau jeu de données.\n",
    "\n",
    "Cette stratégie sera implémentée dans une seule fonction (commentée) data_enrichment_function qui prends en paramètre notre DataFrame, soit `customer`, ainsi qu'un bouleen `addPIB` pour savoir si nous voulons ajouter les données de `countryGDP` ou non."
   ],
   "id": "62e9d490180814b7"
  },
  {
   "metadata": {
    "ExecuteTime": {
     "end_time": "2025-03-01T17:19:46.685986Z",
     "start_time": "2025-03-01T17:19:46.648322Z"
    }
   },
   "cell_type": "code",
   "source": [
    "# X est le dataframe customer\n",
    "def data_enrichment_function(X, addPIB):\n",
    "    # On remplace les valeurs manquantes dans nos deux nouveaux jeux de données\n",
    "    new_countryPopulation = replace_missing_values_function(countryPopulation, cols_to_numeric=[], cols_to_exclude=[\"Country\"])\n",
    "\n",
    "    # On corrige le titre de la colonne Country pour pouvoir faire une jointure\n",
    "    new_countryPopulation.rename(columns={'Country': 'country'}, inplace=True)\n",
    "\n",
    "    # On met en minuscule les noms des pays pour pouvoir faire une jointure\n",
    "    X['country'] = X['country'].str.lower()\n",
    "    new_countryPopulation['country'] = new_countryPopulation['country'].str.lower()\n",
    "\n",
    "    # On fait une jointure entre notre jeu de données et le nouveau jeu de données\n",
    "    merged_df = pd.merge(X, new_countryPopulation, on='country', how='left')\n",
    "\n",
    "    # Si on veut ajouter les données de countryGDP\n",
    "    if addPIB :\n",
    "        new_countryGDP = replace_missing_values_function(countryGDP, cols_to_numeric=[], cols_to_exclude=[\"Country\"])\n",
    "        new_countryGDP.rename(columns={'Country': 'country'}, inplace=True)\n",
    "        new_countryGDP['country'] = new_countryGDP['country'].str.lower()\n",
    "        merged_df = pd.merge(merged_df, new_countryGDP, on='country', how='left')\n",
    "\n",
    "    return merged_df\n",
    "\n",
    "test_set = data_enrichment_function(test_set, addPIB=True)\n",
    "test_set.head()"
   ],
   "id": "f12ffb0cd296e8ea",
   "outputs": [
    {
     "data": {
      "text/plain": [
       "   pages  first_item_prize  News_click  revenue gender  ReBuy        country  \\\n",
       "0   5.00              44.0         5.0    269.4    Fem  False         canada   \n",
       "1   6.00              44.0         5.0    285.0    Fem  False  united states   \n",
       "2   3.00              22.0         4.0    215.0    Fem  False         france   \n",
       "3   7.00              28.0         4.0     74.0    Fem  False    philippines   \n",
       "4   6.25              22.0         4.0    261.0    Fem   True        germany   \n",
       "\n",
       "    age  population_x  GDP_inhab_x  population_y  GDP_inhab_y   population  \\\n",
       "0  46.0    35295770.0      42317.0    35295770.0      42317.0   35295770.0   \n",
       "1  43.0   317638000.0      51704.0   317638000.0      51704.0  317638000.0   \n",
       "2  47.0    65844000.0      35295.0    65844000.0      35295.0   65844000.0   \n",
       "3  49.0    99216300.0       4380.0    99216300.0       4380.0   99216300.0   \n",
       "4  35.0    80619000.0      38666.0    80619000.0      38666.0   80619000.0   \n",
       "\n",
       "   GDP_inhab  \n",
       "0    42317.0  \n",
       "1    51704.0  \n",
       "2    35295.0  \n",
       "3     4380.0  \n",
       "4    38666.0  "
      ],
      "text/html": [
       "<div>\n",
       "<style scoped>\n",
       "    .dataframe tbody tr th:only-of-type {\n",
       "        vertical-align: middle;\n",
       "    }\n",
       "\n",
       "    .dataframe tbody tr th {\n",
       "        vertical-align: top;\n",
       "    }\n",
       "\n",
       "    .dataframe thead th {\n",
       "        text-align: right;\n",
       "    }\n",
       "</style>\n",
       "<table border=\"1\" class=\"dataframe\">\n",
       "  <thead>\n",
       "    <tr style=\"text-align: right;\">\n",
       "      <th></th>\n",
       "      <th>pages</th>\n",
       "      <th>first_item_prize</th>\n",
       "      <th>News_click</th>\n",
       "      <th>revenue</th>\n",
       "      <th>gender</th>\n",
       "      <th>ReBuy</th>\n",
       "      <th>country</th>\n",
       "      <th>age</th>\n",
       "      <th>population_x</th>\n",
       "      <th>GDP_inhab_x</th>\n",
       "      <th>population_y</th>\n",
       "      <th>GDP_inhab_y</th>\n",
       "      <th>population</th>\n",
       "      <th>GDP_inhab</th>\n",
       "    </tr>\n",
       "  </thead>\n",
       "  <tbody>\n",
       "    <tr>\n",
       "      <th>0</th>\n",
       "      <td>5.00</td>\n",
       "      <td>44.0</td>\n",
       "      <td>5.0</td>\n",
       "      <td>269.4</td>\n",
       "      <td>Fem</td>\n",
       "      <td>False</td>\n",
       "      <td>canada</td>\n",
       "      <td>46.0</td>\n",
       "      <td>35295770.0</td>\n",
       "      <td>42317.0</td>\n",
       "      <td>35295770.0</td>\n",
       "      <td>42317.0</td>\n",
       "      <td>35295770.0</td>\n",
       "      <td>42317.0</td>\n",
       "    </tr>\n",
       "    <tr>\n",
       "      <th>1</th>\n",
       "      <td>6.00</td>\n",
       "      <td>44.0</td>\n",
       "      <td>5.0</td>\n",
       "      <td>285.0</td>\n",
       "      <td>Fem</td>\n",
       "      <td>False</td>\n",
       "      <td>united states</td>\n",
       "      <td>43.0</td>\n",
       "      <td>317638000.0</td>\n",
       "      <td>51704.0</td>\n",
       "      <td>317638000.0</td>\n",
       "      <td>51704.0</td>\n",
       "      <td>317638000.0</td>\n",
       "      <td>51704.0</td>\n",
       "    </tr>\n",
       "    <tr>\n",
       "      <th>2</th>\n",
       "      <td>3.00</td>\n",
       "      <td>22.0</td>\n",
       "      <td>4.0</td>\n",
       "      <td>215.0</td>\n",
       "      <td>Fem</td>\n",
       "      <td>False</td>\n",
       "      <td>france</td>\n",
       "      <td>47.0</td>\n",
       "      <td>65844000.0</td>\n",
       "      <td>35295.0</td>\n",
       "      <td>65844000.0</td>\n",
       "      <td>35295.0</td>\n",
       "      <td>65844000.0</td>\n",
       "      <td>35295.0</td>\n",
       "    </tr>\n",
       "    <tr>\n",
       "      <th>3</th>\n",
       "      <td>7.00</td>\n",
       "      <td>28.0</td>\n",
       "      <td>4.0</td>\n",
       "      <td>74.0</td>\n",
       "      <td>Fem</td>\n",
       "      <td>False</td>\n",
       "      <td>philippines</td>\n",
       "      <td>49.0</td>\n",
       "      <td>99216300.0</td>\n",
       "      <td>4380.0</td>\n",
       "      <td>99216300.0</td>\n",
       "      <td>4380.0</td>\n",
       "      <td>99216300.0</td>\n",
       "      <td>4380.0</td>\n",
       "    </tr>\n",
       "    <tr>\n",
       "      <th>4</th>\n",
       "      <td>6.25</td>\n",
       "      <td>22.0</td>\n",
       "      <td>4.0</td>\n",
       "      <td>261.0</td>\n",
       "      <td>Fem</td>\n",
       "      <td>True</td>\n",
       "      <td>germany</td>\n",
       "      <td>35.0</td>\n",
       "      <td>80619000.0</td>\n",
       "      <td>38666.0</td>\n",
       "      <td>80619000.0</td>\n",
       "      <td>38666.0</td>\n",
       "      <td>80619000.0</td>\n",
       "      <td>38666.0</td>\n",
       "    </tr>\n",
       "  </tbody>\n",
       "</table>\n",
       "</div>"
      ]
     },
     "execution_count": 33,
     "metadata": {},
     "output_type": "execute_result"
    }
   ],
   "execution_count": 33
  },
  {
   "metadata": {},
   "cell_type": "markdown",
   "source": [
    "Nous remarquons que nous avons maintenant enrichi notre jeu de données avec les données de `countryPopulation` et `countryGDP`.\n",
    "\n",
    "Nous pouvons maintenant transformer la fonction en transformateur, pour pouvoir plus tard l'intégrer facilement dans un pipeline de transformation."
   ],
   "id": "9fd0637775d58dbb"
  },
  {
   "metadata": {
    "ExecuteTime": {
     "end_time": "2025-03-01T17:35:35.391060Z",
     "start_time": "2025-03-01T17:35:35.378868Z"
    }
   },
   "cell_type": "code",
   "source": [
    "data_enrichment = FunctionTransformer(\n",
    "    data_enrichment_function,\n",
    "    validate=False,\n",
    "    kw_args={\n",
    "        \"addPIB\": True\n",
    "    },\n",
    ")"
   ],
   "id": "ff2f15a6fa5db3a0",
   "outputs": [],
   "execution_count": 57
  },
  {
   "metadata": {},
   "cell_type": "markdown",
   "source": [
    "## 5. Pipeline de transformation\n",
    "\n",
    "Nous allons maintenant pouvoir construire notre pipeline de transformation, puis l'appliquer à notre jeu de données d'entrainement."
   ],
   "id": "229bf5ee8b214896"
  },
  {
   "metadata": {
    "ExecuteTime": {
     "end_time": "2025-03-01T17:46:31.215612Z",
     "start_time": "2025-03-01T17:46:31.160901Z"
    }
   },
   "cell_type": "code",
   "source": [
    "\n",
    "# Création du pipeline\n",
    "data_cleaning = Pipeline([\n",
    "    (\"replace_missing\", replace_missing_values_customer),\n",
    "    (\"replace_outliers\", replace_outliers_customer),\n",
    "])\n",
    "\n",
    "new_columns = list(train_set.columns) + [\"population\", \"GDP_inhab\"]\n",
    "\n",
    "full_pipeline = ColumnTransformer(\n",
    "    transformers=[\n",
    "        (\"cleaning\", data_cleaning, train_set.columns),\n",
    "        (\"enrichment\", data_enrichment, train_set.columns)\n",
    "    ],\n",
    "    remainder=\"passthrough\"\n",
    ")\n",
    "\n",
    "\n",
    "customer_prepare = full_pipeline.fit_transform(train_set)"
   ],
   "id": "da59f0cb9e3ff168",
   "outputs": [],
   "execution_count": 59
  },
  {
   "metadata": {},
   "cell_type": "markdown",
   "source": "",
   "id": "64bad131bb033151"
  }
 ],
 "metadata": {
  "kernelspec": {
   "name": "python3",
   "language": "python",
   "display_name": "Python 3 (ipykernel)"
  }
 },
 "nbformat": 5,
 "nbformat_minor": 9
}
