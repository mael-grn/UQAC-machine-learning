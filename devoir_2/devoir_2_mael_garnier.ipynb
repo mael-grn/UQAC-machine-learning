{
 "cells": [
  {
   "metadata": {
    "ExecuteTime": {
     "end_time": "2025-02-10T19:00:30.804514Z",
     "start_time": "2025-02-10T19:00:30.788422Z"
    }
   },
   "cell_type": "code",
   "source": [
    "#Chargement des données: train_set et test_set\n",
    "import pandas as pd # importation du module pandas\n",
    "\n",
    "test_set = pd.read_csv('test_set.csv')\n",
    "train_set = pd.read_csv('train_set.csv')\n"
   ],
   "id": "76d6d2799d2bf514",
   "outputs": [],
   "execution_count": 328
  },
  {
   "metadata": {},
   "cell_type": "markdown",
   "source": [
    "# Devoir 2 - 8IAR403\n",
    "Étudiant : *Mael Garnier*\n",
    "\n",
    "\n",
    "Plan :\n"
   ],
   "id": "69ff81a6e7b92814"
  }
 ],
 "metadata": {
  "kernelspec": {
   "name": "python3",
   "language": "python",
   "display_name": "Python 3 (ipykernel)"
  }
 },
 "nbformat": 5,
 "nbformat_minor": 9
}
