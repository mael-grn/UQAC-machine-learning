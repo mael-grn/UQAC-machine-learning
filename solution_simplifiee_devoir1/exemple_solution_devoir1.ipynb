{
 "cells": [
  {
   "cell_type": "markdown",
   "metadata": {},
   "source": [
    "# Exemple d'une solution simplifiée du devoir#1#\n",
    "\n",
    "Prenez note que cette solution utilise la dernière version de scikit-learn: 1.4.0\n"
   ]
  },
  {
   "cell_type": "code",
   "metadata": {
    "ExecuteTime": {
     "end_time": "2025-03-01T15:01:48.707958Z",
     "start_time": "2025-03-01T15:01:48.695799Z"
    }
   },
   "source": [
    "#Chargement des modules commun\n",
    "import pandas as pd\n",
    "import numpy as np\n",
    "import matplotlib.pyplot as plt\n",
    "from sklearn.model_selection import train_test_split\n",
    "from sklearn.pipeline import Pipeline\n",
    "from sklearn.impute import SimpleImputer\n",
    "from sklearn.preprocessing import *\n",
    "from sklearn.compose import *"
   ],
   "outputs": [],
   "execution_count": 27
  },
  {
   "cell_type": "code",
   "metadata": {
    "ExecuteTime": {
     "end_time": "2025-03-01T15:01:48.801256Z",
     "start_time": "2025-03-01T15:01:48.788149Z"
    }
   },
   "source": [
    "#lecture du dataset. A la lecture, les valeurs inconnues (? ) sont remplacées\n",
    "#par NAN, ainsi on peut directement exploiter Imputer.\n",
    "data_client = pd.read_csv('Customer.csv', na_values=['?', 'unknown'])"
   ],
   "outputs": [],
   "execution_count": 28
  },
  {
   "cell_type": "code",
   "metadata": {
    "ExecuteTime": {
     "end_time": "2025-03-01T15:01:48.816745Z",
     "start_time": "2025-03-01T15:01:48.806694Z"
    }
   },
   "source": [
    "#Extraction d'un jeu d'entrainement \"train_set\" 80% et d'un jeu de test \"test_test\": 20%\n",
    "from sklearn.model_selection import train_test_split\n",
    "train_set, test_set = train_test_split(data_client, test_size=0.2, \n",
    "                                       random_state=42)"
   ],
   "outputs": [],
   "execution_count": 29
  },
  {
   "cell_type": "code",
   "metadata": {
    "ExecuteTime": {
     "end_time": "2025-03-01T15:01:48.896019Z",
     "start_time": "2025-03-01T15:01:48.883006Z"
    }
   },
   "source": [
    "train_set.shape"
   ],
   "outputs": [
    {
     "data": {
      "text/plain": [
       "(8000, 8)"
      ]
     },
     "execution_count": 30,
     "metadata": {},
     "output_type": "execute_result"
    }
   ],
   "execution_count": 30
  },
  {
   "cell_type": "code",
   "metadata": {
    "ExecuteTime": {
     "end_time": "2025-03-01T15:01:48.974503Z",
     "start_time": "2025-03-01T15:01:48.960587Z"
    }
   },
   "source": [
    "train_set.head()"
   ],
   "outputs": [
    {
     "data": {
      "text/plain": [
       "       age  pages  first_item_prize gender  ReBuy  News_click     country  \\\n",
       "9254  36.0    6.0              10.0   Masc  False         3.0       Ghana   \n",
       "1561  36.0    6.0              22.0   Masc   True         4.0  Bangladesh   \n",
       "1670  38.0    3.0              44.0    Fem  False         3.0      Russia   \n",
       "6087  36.0    4.0              15.5   Masc  False        10.0   Argentina   \n",
       "6669  40.0    4.0              15.5    Fem  False         7.0       Sudan   \n",
       "\n",
       "      revenue  \n",
       "9254     14.0  \n",
       "1561     66.0  \n",
       "1670     74.0  \n",
       "6087    116.0  \n",
       "6669     36.0  "
      ],
      "text/html": [
       "<div>\n",
       "<style scoped>\n",
       "    .dataframe tbody tr th:only-of-type {\n",
       "        vertical-align: middle;\n",
       "    }\n",
       "\n",
       "    .dataframe tbody tr th {\n",
       "        vertical-align: top;\n",
       "    }\n",
       "\n",
       "    .dataframe thead th {\n",
       "        text-align: right;\n",
       "    }\n",
       "</style>\n",
       "<table border=\"1\" class=\"dataframe\">\n",
       "  <thead>\n",
       "    <tr style=\"text-align: right;\">\n",
       "      <th></th>\n",
       "      <th>age</th>\n",
       "      <th>pages</th>\n",
       "      <th>first_item_prize</th>\n",
       "      <th>gender</th>\n",
       "      <th>ReBuy</th>\n",
       "      <th>News_click</th>\n",
       "      <th>country</th>\n",
       "      <th>revenue</th>\n",
       "    </tr>\n",
       "  </thead>\n",
       "  <tbody>\n",
       "    <tr>\n",
       "      <th>9254</th>\n",
       "      <td>36.0</td>\n",
       "      <td>6.0</td>\n",
       "      <td>10.0</td>\n",
       "      <td>Masc</td>\n",
       "      <td>False</td>\n",
       "      <td>3.0</td>\n",
       "      <td>Ghana</td>\n",
       "      <td>14.0</td>\n",
       "    </tr>\n",
       "    <tr>\n",
       "      <th>1561</th>\n",
       "      <td>36.0</td>\n",
       "      <td>6.0</td>\n",
       "      <td>22.0</td>\n",
       "      <td>Masc</td>\n",
       "      <td>True</td>\n",
       "      <td>4.0</td>\n",
       "      <td>Bangladesh</td>\n",
       "      <td>66.0</td>\n",
       "    </tr>\n",
       "    <tr>\n",
       "      <th>1670</th>\n",
       "      <td>38.0</td>\n",
       "      <td>3.0</td>\n",
       "      <td>44.0</td>\n",
       "      <td>Fem</td>\n",
       "      <td>False</td>\n",
       "      <td>3.0</td>\n",
       "      <td>Russia</td>\n",
       "      <td>74.0</td>\n",
       "    </tr>\n",
       "    <tr>\n",
       "      <th>6087</th>\n",
       "      <td>36.0</td>\n",
       "      <td>4.0</td>\n",
       "      <td>15.5</td>\n",
       "      <td>Masc</td>\n",
       "      <td>False</td>\n",
       "      <td>10.0</td>\n",
       "      <td>Argentina</td>\n",
       "      <td>116.0</td>\n",
       "    </tr>\n",
       "    <tr>\n",
       "      <th>6669</th>\n",
       "      <td>40.0</td>\n",
       "      <td>4.0</td>\n",
       "      <td>15.5</td>\n",
       "      <td>Fem</td>\n",
       "      <td>False</td>\n",
       "      <td>7.0</td>\n",
       "      <td>Sudan</td>\n",
       "      <td>36.0</td>\n",
       "    </tr>\n",
       "  </tbody>\n",
       "</table>\n",
       "</div>"
      ]
     },
     "execution_count": 31,
     "metadata": {},
     "output_type": "execute_result"
    }
   ],
   "execution_count": 31
  },
  {
   "cell_type": "code",
   "metadata": {
    "ExecuteTime": {
     "end_time": "2025-03-01T15:01:49.098465Z",
     "start_time": "2025-03-01T15:01:49.084609Z"
    }
   },
   "source": [
    "train_set.info()"
   ],
   "outputs": [
    {
     "name": "stdout",
     "output_type": "stream",
     "text": [
      "<class 'pandas.core.frame.DataFrame'>\n",
      "Index: 8000 entries, 9254 to 7270\n",
      "Data columns (total 8 columns):\n",
      " #   Column            Non-Null Count  Dtype  \n",
      "---  ------            --------------  -----  \n",
      " 0   age               8000 non-null   float64\n",
      " 1   pages             8000 non-null   float64\n",
      " 2   first_item_prize  7997 non-null   float64\n",
      " 3   gender            8000 non-null   object \n",
      " 4   ReBuy             8000 non-null   bool   \n",
      " 5   News_click        8000 non-null   float64\n",
      " 6   country           8000 non-null   object \n",
      " 7   revenue           7997 non-null   float64\n",
      "dtypes: bool(1), float64(5), object(2)\n",
      "memory usage: 507.8+ KB\n"
     ]
    }
   ],
   "execution_count": 32
  },
  {
   "cell_type": "code",
   "metadata": {
    "ExecuteTime": {
     "end_time": "2025-03-01T15:01:49.207773Z",
     "start_time": "2025-03-01T15:01:49.179492Z"
    }
   },
   "source": [
    "train_set.describe(include=np.number)"
   ],
   "outputs": [
    {
     "data": {
      "text/plain": [
       "               age        pages  first_item_prize   News_click      revenue\n",
       "count  8000.000000  8000.000000       7997.000000  8000.000000  7997.000000\n",
       "mean     37.391750     6.009500         40.285044     4.403625   122.725272\n",
       "std       9.480534     2.439806         27.625504     2.427179    86.444314\n",
       "min      18.000000     1.000000         10.000000     0.000000     3.000000\n",
       "25%      31.000000     5.000000         22.000000     3.000000    60.000000\n",
       "50%      37.000000     6.000000         42.000000     4.000000   100.000000\n",
       "75%      43.000000     7.000000         44.000000     6.000000   164.000000\n",
       "max      79.000000    14.000000        117.000000    10.000000   995.000000"
      ],
      "text/html": [
       "<div>\n",
       "<style scoped>\n",
       "    .dataframe tbody tr th:only-of-type {\n",
       "        vertical-align: middle;\n",
       "    }\n",
       "\n",
       "    .dataframe tbody tr th {\n",
       "        vertical-align: top;\n",
       "    }\n",
       "\n",
       "    .dataframe thead th {\n",
       "        text-align: right;\n",
       "    }\n",
       "</style>\n",
       "<table border=\"1\" class=\"dataframe\">\n",
       "  <thead>\n",
       "    <tr style=\"text-align: right;\">\n",
       "      <th></th>\n",
       "      <th>age</th>\n",
       "      <th>pages</th>\n",
       "      <th>first_item_prize</th>\n",
       "      <th>News_click</th>\n",
       "      <th>revenue</th>\n",
       "    </tr>\n",
       "  </thead>\n",
       "  <tbody>\n",
       "    <tr>\n",
       "      <th>count</th>\n",
       "      <td>8000.000000</td>\n",
       "      <td>8000.000000</td>\n",
       "      <td>7997.000000</td>\n",
       "      <td>8000.000000</td>\n",
       "      <td>7997.000000</td>\n",
       "    </tr>\n",
       "    <tr>\n",
       "      <th>mean</th>\n",
       "      <td>37.391750</td>\n",
       "      <td>6.009500</td>\n",
       "      <td>40.285044</td>\n",
       "      <td>4.403625</td>\n",
       "      <td>122.725272</td>\n",
       "    </tr>\n",
       "    <tr>\n",
       "      <th>std</th>\n",
       "      <td>9.480534</td>\n",
       "      <td>2.439806</td>\n",
       "      <td>27.625504</td>\n",
       "      <td>2.427179</td>\n",
       "      <td>86.444314</td>\n",
       "    </tr>\n",
       "    <tr>\n",
       "      <th>min</th>\n",
       "      <td>18.000000</td>\n",
       "      <td>1.000000</td>\n",
       "      <td>10.000000</td>\n",
       "      <td>0.000000</td>\n",
       "      <td>3.000000</td>\n",
       "    </tr>\n",
       "    <tr>\n",
       "      <th>25%</th>\n",
       "      <td>31.000000</td>\n",
       "      <td>5.000000</td>\n",
       "      <td>22.000000</td>\n",
       "      <td>3.000000</td>\n",
       "      <td>60.000000</td>\n",
       "    </tr>\n",
       "    <tr>\n",
       "      <th>50%</th>\n",
       "      <td>37.000000</td>\n",
       "      <td>6.000000</td>\n",
       "      <td>42.000000</td>\n",
       "      <td>4.000000</td>\n",
       "      <td>100.000000</td>\n",
       "    </tr>\n",
       "    <tr>\n",
       "      <th>75%</th>\n",
       "      <td>43.000000</td>\n",
       "      <td>7.000000</td>\n",
       "      <td>44.000000</td>\n",
       "      <td>6.000000</td>\n",
       "      <td>164.000000</td>\n",
       "    </tr>\n",
       "    <tr>\n",
       "      <th>max</th>\n",
       "      <td>79.000000</td>\n",
       "      <td>14.000000</td>\n",
       "      <td>117.000000</td>\n",
       "      <td>10.000000</td>\n",
       "      <td>995.000000</td>\n",
       "    </tr>\n",
       "  </tbody>\n",
       "</table>\n",
       "</div>"
      ]
     },
     "execution_count": 33,
     "metadata": {},
     "output_type": "execute_result"
    }
   ],
   "execution_count": 33
  },
  {
   "cell_type": "code",
   "metadata": {
    "ExecuteTime": {
     "end_time": "2025-03-01T15:01:49.348303Z",
     "start_time": "2025-03-01T15:01:49.335797Z"
    }
   },
   "source": [
    "#visualisation\n",
    "data_num = train_set.drop([\"gender\",\"ReBuy\",\"country\"], axis=1)"
   ],
   "outputs": [],
   "execution_count": 34
  },
  {
   "cell_type": "code",
   "metadata": {
    "ExecuteTime": {
     "end_time": "2025-03-01T15:01:50.149717Z",
     "start_time": "2025-03-01T15:01:49.410427Z"
    }
   },
   "source": [
    "%matplotlib inline\n",
    "import matplotlib.pyplot as plt\n",
    "data_num.hist(bins=50, figsize=(20,15))\n",
    "plt.show()"
   ],
   "outputs": [
    {
     "data": {
      "text/plain": [
       "<Figure size 2000x1500 with 6 Axes>"
      ],
      "image/png": "[encoded data removed]"
     },
     "metadata": {},
     "output_type": "display_data"
    }
   ],
   "execution_count": 35
  },
  {
   "cell_type": "code",
   "metadata": {
    "ExecuteTime": {
     "end_time": "2025-03-01T15:01:50.242650Z",
     "start_time": "2025-03-01T15:01:50.159113Z"
    }
   },
   "source": [
    "train_set['gender'].value_counts().plot.bar()"
   ],
   "outputs": [
    {
     "data": {
      "text/plain": [
       "<Axes: xlabel='gender'>"
      ]
     },
     "execution_count": 36,
     "metadata": {},
     "output_type": "execute_result"
    },
    {
     "data": {
      "text/plain": [
       "<Figure size 640x480 with 1 Axes>"
      ],
      "image/png": "[encoded data removed]"
     },
     "metadata": {},
     "output_type": "display_data"
    }
   ],
   "execution_count": 36
  },
  {
   "cell_type": "code",
   "metadata": {
    "ExecuteTime": {
     "end_time": "2025-03-01T15:01:50.321752Z",
     "start_time": "2025-03-01T15:01:50.307441Z"
    }
   },
   "source": [
    "corr_matrix =data_num.corr()"
   ],
   "outputs": [],
   "execution_count": 37
  },
  {
   "cell_type": "code",
   "metadata": {
    "ExecuteTime": {
     "end_time": "2025-03-01T15:01:50.399445Z",
     "start_time": "2025-03-01T15:01:50.386038Z"
    }
   },
   "source": [
    "corr_matrix['revenue'].sort_values(ascending=False)"
   ],
   "outputs": [
    {
     "data": {
      "text/plain": [
       "revenue             1.000000\n",
       "News_click          0.374412\n",
       "first_item_prize    0.367441\n",
       "age                 0.022159\n",
       "pages              -0.010377\n",
       "Name: revenue, dtype: float64"
      ]
     },
     "execution_count": 38,
     "metadata": {},
     "output_type": "execute_result"
    }
   ],
   "execution_count": 38
  },
  {
   "cell_type": "code",
   "metadata": {
    "ExecuteTime": {
     "end_time": "2025-03-01T15:01:50.570828Z",
     "start_time": "2025-03-01T15:01:50.493837Z"
    }
   },
   "source": [
    "# Recherche des outliers...Exploration visuelle\n",
    "train_set[['age']].boxplot()\n",
    "# Il y plusieurs valeurs > Q3"
   ],
   "outputs": [
    {
     "data": {
      "text/plain": [
       "<Axes: >"
      ]
     },
     "execution_count": 39,
     "metadata": {},
     "output_type": "execute_result"
    },
    {
     "data": {
      "text/plain": [
       "<Figure size 640x480 with 1 Axes>"
      ],
      "image/png": "[encoded data removed]"
     },
     "metadata": {},
     "output_type": "display_data"
    }
   ],
   "execution_count": 39
  },
  {
   "cell_type": "code",
   "metadata": {
    "ExecuteTime": {
     "end_time": "2025-03-01T15:01:50.744547Z",
     "start_time": "2025-03-01T15:01:50.732272Z"
    }
   },
   "source": [
    "#il faut séparer les entrées/sorties\n",
    "X_train=train_set.drop([\"revenue\"], axis=1)\n",
    "y_train=train_set[\"revenue\"]"
   ],
   "outputs": [],
   "execution_count": 40
  },
  {
   "cell_type": "code",
   "metadata": {
    "ExecuteTime": {
     "end_time": "2025-03-01T15:01:50.838723Z",
     "start_time": "2025-03-01T15:01:50.825468Z"
    }
   },
   "source": [
    "#remplcement des vaeurs manquantes\n",
    "imputer = SimpleImputer(strategy=\"median\")\n",
    "X=imputer.fit_transform(data_num)"
   ],
   "outputs": [],
   "execution_count": 41
  },
  {
   "cell_type": "code",
   "metadata": {
    "ExecuteTime": {
     "end_time": "2025-03-01T15:01:50.853893Z",
     "start_time": "2025-03-01T15:01:50.843898Z"
    }
   },
   "source": [
    "# fonction de nettoyage de données aberrantes qui sera appellee le pipeline\n",
    "#utilisation de la fonction clip()\n",
    "def nettoyageOutliers(df: pd.DataFrame) -> pd.DataFrame:\n",
    "    cols = df.columns\n",
    "    Q25 = df[cols].quantile(0.25) #Q1 on définit le premier quartile pour c\n",
    "    Q75 = df[cols].quantile(0.75)\n",
    "    IQR = Q75 - Q25\n",
    "    SeuilMin = (Q25 - 1.5 * IQR)\n",
    "    SeuilMax= (Q75 + 1.5 * IQR)\n",
    "    nouv_df = df[cols].clip(SeuilMin[cols], SeuilMax[cols], axis=1)\n",
    "    return nouv_df"
   ],
   "outputs": [],
   "execution_count": 42
  },
  {
   "cell_type": "code",
   "metadata": {
    "ExecuteTime": {
     "end_time": "2025-03-01T15:01:51.011486Z",
     "start_time": "2025-03-01T15:01:50.918532Z"
    }
   },
   "source": [
    "resultat = nettoyageOutliers(pd.DataFrame(X, columns=data_num.columns))\n",
    "resultat[['age']].boxplot()"
   ],
   "outputs": [
    {
     "data": {
      "text/plain": [
       "<Axes: >"
      ]
     },
     "execution_count": 43,
     "metadata": {},
     "output_type": "execute_result"
    },
    {
     "data": {
      "text/plain": [
       "<Figure size 640x480 with 1 Axes>"
      ],
      "image/png": "[encoded data removed]"
     },
     "metadata": {},
     "output_type": "display_data"
    }
   ],
   "execution_count": 43
  },
  {
   "cell_type": "code",
   "metadata": {
    "ExecuteTime": {
     "end_time": "2025-03-01T15:01:51.088709Z",
     "start_time": "2025-03-01T15:01:51.075235Z"
    }
   },
   "source": [
    "def bornage(data):\n",
    "    return nettoyageOutliers(pd.DataFrame(data))"
   ],
   "outputs": [],
   "execution_count": 44
  },
  {
   "cell_type": "code",
   "metadata": {
    "ExecuteTime": {
     "end_time": "2025-03-01T15:01:51.165144Z",
     "start_time": "2025-03-01T15:01:51.152118Z"
    }
   },
   "source": [
    "#il faut remarquer que la variable Country est ecrite en premiere lettre Capital\n",
    "#C qui n'est pas la meme que celle du dataset Data écrite en minscule \"country\"\n",
    "#important pour faire le merge\n",
    "# d'ou le renommage des colonnes\n",
    "data_pays = pd.read_csv(\"CountryPopulation.csv\", na_values=['?', 'unknown'])\n",
    "data_pib = pd.read_csv(\"CountryGDP.csv\", na_values=['?', 'unknown'])\n",
    "data_pays.columns=['country','population']\n",
    "data_pib.columns =['country', 'GDP_inhab']"
   ],
   "outputs": [],
   "execution_count": 45
  },
  {
   "cell_type": "code",
   "metadata": {
    "ExecuteTime": {
     "end_time": "2025-03-01T15:01:51.243708Z",
     "start_time": "2025-03-01T15:01:51.229671Z"
    }
   },
   "source": [
    "#definition de la fonction merge\n",
    "#renommage de la colonne country\n",
    "\n",
    "def mergeDataset(data: pd.DataFrame, pib=False):\n",
    "    data_enrichie = pd.merge(data, data_pays)\n",
    "    if pib==True:\n",
    "        #jointure entre le data et le data_pib\n",
    "        data_enrichie = data_enrichie.merge(data_pib)\n",
    "    return data_enrichie"
   ],
   "outputs": [],
   "execution_count": 46
  },
  {
   "cell_type": "code",
   "metadata": {
    "ExecuteTime": {
     "end_time": "2025-03-01T15:01:51.321623Z",
     "start_time": "2025-03-01T15:01:51.309637Z"
    }
   },
   "source": [
    "def toNum(data :pd.DataFrame):\n",
    "    data['first_item_prize']=pd.to_numeric(data['first_item_prize'])\n",
    "    return data"
   ],
   "outputs": [],
   "execution_count": 47
  },
  {
   "cell_type": "code",
   "metadata": {
    "ExecuteTime": {
     "end_time": "2025-03-01T15:01:51.399289Z",
     "start_time": "2025-03-01T15:01:51.386480Z"
    }
   },
   "source": [
    "# Traitement du bruit pour les variables numériques\n",
    "\n",
    "num_transformer = Pipeline([\n",
    "    ('toNum', FunctionTransformer(toNum, validate=False)),\n",
    "    # Nettoyage par remplcement de valeurs manquantes\n",
    "    ('imputer', SimpleImputer(strategy=\"median\")),\n",
    "    # Remplacement des données aberrantes\n",
    "    ('clamp', FunctionTransformer(bornage, validate=False))\n",
    "])"
   ],
   "outputs": [],
   "execution_count": 48
  },
  {
   "cell_type": "code",
   "metadata": {
    "ExecuteTime": {
     "end_time": "2025-03-01T15:01:51.478530Z",
     "start_time": "2025-03-01T15:01:51.465541Z"
    }
   },
   "source": [
    "# Transformation des variables catégorielles\n",
    "cat_transformer = Pipeline([\n",
    "     ('encoder', OneHotEncoder(handle_unknown='ignore', sparse_output=False))\n",
    "])"
   ],
   "outputs": [],
   "execution_count": 49
  },
  {
   "cell_type": "code",
   "metadata": {
    "ExecuteTime": {
     "end_time": "2025-03-01T15:01:51.557098Z",
     "start_time": "2025-03-01T15:01:51.544152Z"
    }
   },
   "source": [
    "# Prépare toutes les données\n",
    "preparationData = ColumnTransformer(\n",
    "    transformers=[\n",
    "        ('num', num_transformer, make_column_selector(dtype_include=np.number)),\n",
    "        ('cat', cat_transformer, make_column_selector(dtype_exclude=np.number))\n",
    "    ]\n",
    ")"
   ],
   "outputs": [],
   "execution_count": 50
  },
  {
   "cell_type": "code",
   "metadata": {
    "ExecuteTime": {
     "end_time": "2025-03-01T15:01:51.699092Z",
     "start_time": "2025-03-01T15:01:51.684478Z"
    }
   },
   "source": [
    "# On met le tout ensemble\n",
    "full_pipeline = Pipeline([\n",
    "    ('merge', FunctionTransformer(mergeDataset,kw_args={\"pib\":True}, validate=False)),\n",
    "    ('preparation', preparationData)\n",
    "])"
   ],
   "outputs": [],
   "execution_count": 51
  },
  {
   "cell_type": "code",
   "metadata": {
    "ExecuteTime": {
     "end_time": "2025-03-01T15:01:52.121205Z",
     "start_time": "2025-03-01T15:01:51.801433Z"
    }
   },
   "source": [
    "# Mise en oeuvre du pipeline avec les données d'entrainement pour préparer une TBA pour l'entrainement...\n",
    "leData = full_pipeline.fit_transform(X_train)\n",
    "pd.DataFrame(leData).to_csv('train_set.csv', index=False)\n",
    "pd.DataFrame(leData).head()"
   ],
   "outputs": [
    {
     "data": {
      "text/plain": [
       "     0    1     2     3            4        5    6    7    8    9   ...   50  \\\n",
       "0  36.0  6.0  10.0   3.0   24658823.0   3316.0  0.0  1.0  1.0  0.0  ...  0.0   \n",
       "1  36.0  6.0  22.0   4.0  152518015.0   1963.0  0.0  1.0  0.0  1.0  ...  0.0   \n",
       "2  38.0  3.0  44.0   3.0  143700000.0  17518.0  1.0  0.0  1.0  0.0  ...  0.0   \n",
       "3  36.0  4.0  15.5  10.0   41660096.0  17917.0  0.0  1.0  1.0  0.0  ...  0.0   \n",
       "4  40.0  4.0  15.5   7.0   37964000.0   2549.0  1.0  0.0  1.0  0.0  ...  0.0   \n",
       "\n",
       "    51   52   53   54   55   56   57   58   59  \n",
       "0  0.0  0.0  0.0  0.0  0.0  0.0  0.0  0.0  0.0  \n",
       "1  0.0  0.0  0.0  0.0  0.0  0.0  0.0  0.0  0.0  \n",
       "2  0.0  0.0  0.0  0.0  0.0  0.0  0.0  0.0  0.0  \n",
       "3  0.0  0.0  0.0  0.0  0.0  0.0  0.0  0.0  0.0  \n",
       "4  0.0  0.0  0.0  0.0  0.0  0.0  0.0  0.0  0.0  \n",
       "\n",
       "[5 rows x 60 columns]"
      ],
      "text/html": [
       "<div>\n",
       "<style scoped>\n",
       "    .dataframe tbody tr th:only-of-type {\n",
       "        vertical-align: middle;\n",
       "    }\n",
       "\n",
       "    .dataframe tbody tr th {\n",
       "        vertical-align: top;\n",
       "    }\n",
       "\n",
       "    .dataframe thead th {\n",
       "        text-align: right;\n",
       "    }\n",
       "</style>\n",
       "<table border=\"1\" class=\"dataframe\">\n",
       "  <thead>\n",
       "    <tr style=\"text-align: right;\">\n",
       "      <th></th>\n",
       "      <th>0</th>\n",
       "      <th>1</th>\n",
       "      <th>2</th>\n",
       "      <th>3</th>\n",
       "      <th>4</th>\n",
       "      <th>5</th>\n",
       "      <th>6</th>\n",
       "      <th>7</th>\n",
       "      <th>8</th>\n",
       "      <th>9</th>\n",
       "      <th>...</th>\n",
       "      <th>50</th>\n",
       "      <th>51</th>\n",
       "      <th>52</th>\n",
       "      <th>53</th>\n",
       "      <th>54</th>\n",
       "      <th>55</th>\n",
       "      <th>56</th>\n",
       "      <th>57</th>\n",
       "      <th>58</th>\n",
       "      <th>59</th>\n",
       "    </tr>\n",
       "  </thead>\n",
       "  <tbody>\n",
       "    <tr>\n",
       "      <th>0</th>\n",
       "      <td>36.0</td>\n",
       "      <td>6.0</td>\n",
       "      <td>10.0</td>\n",
       "      <td>3.0</td>\n",
       "      <td>24658823.0</td>\n",
       "      <td>3316.0</td>\n",
       "      <td>0.0</td>\n",
       "      <td>1.0</td>\n",
       "      <td>1.0</td>\n",
       "      <td>0.0</td>\n",
       "      <td>...</td>\n",
       "      <td>0.0</td>\n",
       "      <td>0.0</td>\n",
       "      <td>0.0</td>\n",
       "      <td>0.0</td>\n",
       "      <td>0.0</td>\n",
       "      <td>0.0</td>\n",
       "      <td>0.0</td>\n",
       "      <td>0.0</td>\n",
       "      <td>0.0</td>\n",
       "      <td>0.0</td>\n",
       "    </tr>\n",
       "    <tr>\n",
       "      <th>1</th>\n",
       "      <td>36.0</td>\n",
       "      <td>6.0</td>\n",
       "      <td>22.0</td>\n",
       "      <td>4.0</td>\n",
       "      <td>152518015.0</td>\n",
       "      <td>1963.0</td>\n",
       "      <td>0.0</td>\n",
       "      <td>1.0</td>\n",
       "      <td>0.0</td>\n",
       "      <td>1.0</td>\n",
       "      <td>...</td>\n",
       "      <td>0.0</td>\n",
       "      <td>0.0</td>\n",
       "      <td>0.0</td>\n",
       "      <td>0.0</td>\n",
       "      <td>0.0</td>\n",
       "      <td>0.0</td>\n",
       "      <td>0.0</td>\n",
       "      <td>0.0</td>\n",
       "      <td>0.0</td>\n",
       "      <td>0.0</td>\n",
       "    </tr>\n",
       "    <tr>\n",
       "      <th>2</th>\n",
       "      <td>38.0</td>\n",
       "      <td>3.0</td>\n",
       "      <td>44.0</td>\n",
       "      <td>3.0</td>\n",
       "      <td>143700000.0</td>\n",
       "      <td>17518.0</td>\n",
       "      <td>1.0</td>\n",
       "      <td>0.0</td>\n",
       "      <td>1.0</td>\n",
       "      <td>0.0</td>\n",
       "      <td>...</td>\n",
       "      <td>0.0</td>\n",
       "      <td>0.0</td>\n",
       "      <td>0.0</td>\n",
       "      <td>0.0</td>\n",
       "      <td>0.0</td>\n",
       "      <td>0.0</td>\n",
       "      <td>0.0</td>\n",
       "      <td>0.0</td>\n",
       "      <td>0.0</td>\n",
       "      <td>0.0</td>\n",
       "    </tr>\n",
       "    <tr>\n",
       "      <th>3</th>\n",
       "      <td>36.0</td>\n",
       "      <td>4.0</td>\n",
       "      <td>15.5</td>\n",
       "      <td>10.0</td>\n",
       "      <td>41660096.0</td>\n",
       "      <td>17917.0</td>\n",
       "      <td>0.0</td>\n",
       "      <td>1.0</td>\n",
       "      <td>1.0</td>\n",
       "      <td>0.0</td>\n",
       "      <td>...</td>\n",
       "      <td>0.0</td>\n",
       "      <td>0.0</td>\n",
       "      <td>0.0</td>\n",
       "      <td>0.0</td>\n",
       "      <td>0.0</td>\n",
       "      <td>0.0</td>\n",
       "      <td>0.0</td>\n",
       "      <td>0.0</td>\n",
       "      <td>0.0</td>\n",
       "      <td>0.0</td>\n",
       "    </tr>\n",
       "    <tr>\n",
       "      <th>4</th>\n",
       "      <td>40.0</td>\n",
       "      <td>4.0</td>\n",
       "      <td>15.5</td>\n",
       "      <td>7.0</td>\n",
       "      <td>37964000.0</td>\n",
       "      <td>2549.0</td>\n",
       "      <td>1.0</td>\n",
       "      <td>0.0</td>\n",
       "      <td>1.0</td>\n",
       "      <td>0.0</td>\n",
       "      <td>...</td>\n",
       "      <td>0.0</td>\n",
       "      <td>0.0</td>\n",
       "      <td>0.0</td>\n",
       "      <td>0.0</td>\n",
       "      <td>0.0</td>\n",
       "      <td>0.0</td>\n",
       "      <td>0.0</td>\n",
       "      <td>0.0</td>\n",
       "      <td>0.0</td>\n",
       "      <td>0.0</td>\n",
       "    </tr>\n",
       "  </tbody>\n",
       "</table>\n",
       "<p>5 rows × 60 columns</p>\n",
       "</div>"
      ]
     },
     "execution_count": 52,
     "metadata": {},
     "output_type": "execute_result"
    }
   ],
   "execution_count": 52
  },
  {
   "cell_type": "code",
   "metadata": {
    "ExecuteTime": {
     "end_time": "2025-03-01T15:01:52.372695Z",
     "start_time": "2025-03-01T15:01:52.265189Z"
    }
   },
   "source": [
    "# Idem le jeu de test doit être mis dans un format approprié en appliquant directement le pipeline de préparation des données\n",
    "X_test=test_set.drop([\"revenue\"], axis=1)\n",
    "y_test=test_set[\"revenue\"]\n",
    "TestData = full_pipeline.fit_transform(X_test)\n",
    "pd.DataFrame(TestData).to_csv('test_set.csv', index=False)\n",
    "\n",
    "pd.DataFrame(TestData).head()"
   ],
   "outputs": [
    {
     "data": {
      "text/plain": [
       "     0    1     2    3            4        5    6    7    8    9   ...   50  \\\n",
       "0  54.0  3.0  15.5  3.0   38700000.0   7268.0  0.0  1.0  1.0  0.0  ...  0.0   \n",
       "1  37.0  5.0  77.0  5.0   52981991.0  11281.0  1.0  0.0  0.0  1.0  ...  0.0   \n",
       "2  43.0  7.0  28.0  3.0  143700000.0  17518.0  0.0  1.0  0.0  1.0  ...  0.0   \n",
       "3  33.0  5.0  28.0  4.0   52981991.0  11281.0  1.0  0.0  0.0  1.0  ...  0.0   \n",
       "4  40.0  5.0  57.0  2.0   53259000.0   1612.0  0.0  1.0  1.0  0.0  ...  0.0   \n",
       "\n",
       "    51   52   53   54   55   56   57   58   59  \n",
       "0  0.0  0.0  0.0  0.0  0.0  0.0  0.0  0.0  0.0  \n",
       "1  0.0  0.0  0.0  0.0  0.0  0.0  0.0  0.0  0.0  \n",
       "2  0.0  0.0  0.0  0.0  0.0  0.0  0.0  0.0  0.0  \n",
       "3  0.0  0.0  0.0  0.0  0.0  0.0  0.0  0.0  0.0  \n",
       "4  0.0  0.0  0.0  0.0  0.0  0.0  0.0  0.0  0.0  \n",
       "\n",
       "[5 rows x 60 columns]"
      ],
      "text/html": [
       "<div>\n",
       "<style scoped>\n",
       "    .dataframe tbody tr th:only-of-type {\n",
       "        vertical-align: middle;\n",
       "    }\n",
       "\n",
       "    .dataframe tbody tr th {\n",
       "        vertical-align: top;\n",
       "    }\n",
       "\n",
       "    .dataframe thead th {\n",
       "        text-align: right;\n",
       "    }\n",
       "</style>\n",
       "<table border=\"1\" class=\"dataframe\">\n",
       "  <thead>\n",
       "    <tr style=\"text-align: right;\">\n",
       "      <th></th>\n",
       "      <th>0</th>\n",
       "      <th>1</th>\n",
       "      <th>2</th>\n",
       "      <th>3</th>\n",
       "      <th>4</th>\n",
       "      <th>5</th>\n",
       "      <th>6</th>\n",
       "      <th>7</th>\n",
       "      <th>8</th>\n",
       "      <th>9</th>\n",
       "      <th>...</th>\n",
       "      <th>50</th>\n",
       "      <th>51</th>\n",
       "      <th>52</th>\n",
       "      <th>53</th>\n",
       "      <th>54</th>\n",
       "      <th>55</th>\n",
       "      <th>56</th>\n",
       "      <th>57</th>\n",
       "      <th>58</th>\n",
       "      <th>59</th>\n",
       "    </tr>\n",
       "  </thead>\n",
       "  <tbody>\n",
       "    <tr>\n",
       "      <th>0</th>\n",
       "      <td>54.0</td>\n",
       "      <td>3.0</td>\n",
       "      <td>15.5</td>\n",
       "      <td>3.0</td>\n",
       "      <td>38700000.0</td>\n",
       "      <td>7268.0</td>\n",
       "      <td>0.0</td>\n",
       "      <td>1.0</td>\n",
       "      <td>1.0</td>\n",
       "      <td>0.0</td>\n",
       "      <td>...</td>\n",
       "      <td>0.0</td>\n",
       "      <td>0.0</td>\n",
       "      <td>0.0</td>\n",
       "      <td>0.0</td>\n",
       "      <td>0.0</td>\n",
       "      <td>0.0</td>\n",
       "      <td>0.0</td>\n",
       "      <td>0.0</td>\n",
       "      <td>0.0</td>\n",
       "      <td>0.0</td>\n",
       "    </tr>\n",
       "    <tr>\n",
       "      <th>1</th>\n",
       "      <td>37.0</td>\n",
       "      <td>5.0</td>\n",
       "      <td>77.0</td>\n",
       "      <td>5.0</td>\n",
       "      <td>52981991.0</td>\n",
       "      <td>11281.0</td>\n",
       "      <td>1.0</td>\n",
       "      <td>0.0</td>\n",
       "      <td>0.0</td>\n",
       "      <td>1.0</td>\n",
       "      <td>...</td>\n",
       "      <td>0.0</td>\n",
       "      <td>0.0</td>\n",
       "      <td>0.0</td>\n",
       "      <td>0.0</td>\n",
       "      <td>0.0</td>\n",
       "      <td>0.0</td>\n",
       "      <td>0.0</td>\n",
       "      <td>0.0</td>\n",
       "      <td>0.0</td>\n",
       "      <td>0.0</td>\n",
       "    </tr>\n",
       "    <tr>\n",
       "      <th>2</th>\n",
       "      <td>43.0</td>\n",
       "      <td>7.0</td>\n",
       "      <td>28.0</td>\n",
       "      <td>3.0</td>\n",
       "      <td>143700000.0</td>\n",
       "      <td>17518.0</td>\n",
       "      <td>0.0</td>\n",
       "      <td>1.0</td>\n",
       "      <td>0.0</td>\n",
       "      <td>1.0</td>\n",
       "      <td>...</td>\n",
       "      <td>0.0</td>\n",
       "      <td>0.0</td>\n",
       "      <td>0.0</td>\n",
       "      <td>0.0</td>\n",
       "      <td>0.0</td>\n",
       "      <td>0.0</td>\n",
       "      <td>0.0</td>\n",
       "      <td>0.0</td>\n",
       "      <td>0.0</td>\n",
       "      <td>0.0</td>\n",
       "    </tr>\n",
       "    <tr>\n",
       "      <th>3</th>\n",
       "      <td>33.0</td>\n",
       "      <td>5.0</td>\n",
       "      <td>28.0</td>\n",
       "      <td>4.0</td>\n",
       "      <td>52981991.0</td>\n",
       "      <td>11281.0</td>\n",
       "      <td>1.0</td>\n",
       "      <td>0.0</td>\n",
       "      <td>0.0</td>\n",
       "      <td>1.0</td>\n",
       "      <td>...</td>\n",
       "      <td>0.0</td>\n",
       "      <td>0.0</td>\n",
       "      <td>0.0</td>\n",
       "      <td>0.0</td>\n",
       "      <td>0.0</td>\n",
       "      <td>0.0</td>\n",
       "      <td>0.0</td>\n",
       "      <td>0.0</td>\n",
       "      <td>0.0</td>\n",
       "      <td>0.0</td>\n",
       "    </tr>\n",
       "    <tr>\n",
       "      <th>4</th>\n",
       "      <td>40.0</td>\n",
       "      <td>5.0</td>\n",
       "      <td>57.0</td>\n",
       "      <td>2.0</td>\n",
       "      <td>53259000.0</td>\n",
       "      <td>1612.0</td>\n",
       "      <td>0.0</td>\n",
       "      <td>1.0</td>\n",
       "      <td>1.0</td>\n",
       "      <td>0.0</td>\n",
       "      <td>...</td>\n",
       "      <td>0.0</td>\n",
       "      <td>0.0</td>\n",
       "      <td>0.0</td>\n",
       "      <td>0.0</td>\n",
       "      <td>0.0</td>\n",
       "      <td>0.0</td>\n",
       "      <td>0.0</td>\n",
       "      <td>0.0</td>\n",
       "      <td>0.0</td>\n",
       "      <td>0.0</td>\n",
       "    </tr>\n",
       "  </tbody>\n",
       "</table>\n",
       "<p>5 rows × 60 columns</p>\n",
       "</div>"
      ]
     },
     "execution_count": 53,
     "metadata": {},
     "output_type": "execute_result"
    }
   ],
   "execution_count": 53
  },
  {
   "cell_type": "code",
   "metadata": {
    "ExecuteTime": {
     "end_time": "2025-03-01T15:01:52.481843Z",
     "start_time": "2025-03-01T15:01:52.468955Z"
    }
   },
   "source": [],
   "outputs": [],
   "execution_count": null
  },
  {
   "cell_type": "code",
   "metadata": {
    "ExecuteTime": {
     "end_time": "2025-03-01T15:01:52.716057Z",
     "start_time": "2025-03-01T15:01:52.707794Z"
    }
   },
   "source": [],
   "outputs": [],
   "execution_count": null
  }
 ],
 "metadata": {
  "kernelspec": {
   "display_name": "Python 3 (ipykernel)",
   "language": "python",
   "name": "python3"
  },
  "language_info": {
   "codemirror_mode": {
    "name": "ipython",
    "version": 3
   },
   "file_extension": ".py",
   "mimetype": "text/x-python",
   "name": "python",
   "nbconvert_exporter": "python",
   "pygments_lexer": "ipython3",
   "version": "3.12.1"
  }
 },
 "nbformat": 4,
 "nbformat_minor": 4
}
